{
 "cells": [
  {
   "cell_type": "code",
   "execution_count": 1,
   "metadata": {},
   "outputs": [],
   "source": [
    "import matplotlib.pyplot as plt\n",
    "import numpy as np\n",
    "\n",
    "import scipy.stats as ss\n",
    "import statsmodels.api as sm\n",
    "\n",
    "from mpl_toolkits.mplot3d import Axes3D\n",
    "\n",
    "from sklearn.linear_model import LinearRegression\n",
    "from sklearn.linear_model import LogisticRegression\n",
    "from sklearn.model_selection import train_test_split\n",
    "\n",
    "# from sklearn.ensemble import RandomForestRegressor\n",
    "# from sklearn.ensemble import RandomForestClassifier\n"
   ]
  },
  {
   "cell_type": "code",
   "execution_count": 2,
   "metadata": {},
   "outputs": [
    {
     "data": {
      "text/plain": [
       "Text(0, 0.5, 'y')"
      ]
     },
     "execution_count": 2,
     "metadata": {},
     "output_type": "execute_result"
    },
    {
     "data": {
      "image/png": "[encoded data removed]",
      "text/plain": [
       "<Figure size 432x288 with 1 Axes>"
      ]
     },
     "metadata": {
      "needs_background": "light"
     },
     "output_type": "display_data"
    }
   ],
   "source": [
    "n = 100\n",
    "beta_0 = 5\n",
    "beta_1 = 2\n",
    "np.random.seed(1)\n",
    "x = 10 * ss.uniform.rvs(size=n)\n",
    "y = beta_0 + beta_1 * x + ss.norm.rvs(loc=0, scale=1, size=n)\n",
    "\n",
    "plt.figure()\n",
    "plt.plot(x, y, 'o', ms = 5)\n",
    "\n",
    "xx = np.array([0, 10])\n",
    "plt.plot(xx, beta_0 + beta_1 * xx )\n",
    "plt.xlabel('x')\n",
    "plt.ylabel('y')"
   ]
  },
  {
   "cell_type": "code",
   "execution_count": 3,
   "metadata": {},
   "outputs": [],
   "source": [
    "\n",
    "# def compute_rss(y_estimate, y):\n",
    "#   return sum(np.power(y-y_estimate, 2))\n",
    "\n",
    "# def estimate_y(x, b_0, b_1):\n",
    "#   return b_0 + b_1 * x\n",
    "\n",
    "# rss = compute_rss(estimate_y(x, beta_0, beta_1), y) \n",
    "# rss"
   ]
  },
  {
   "cell_type": "markdown",
   "metadata": {},
   "source": [
    "We have seen in the above graph dummy data with intercept in 5 and slope 2. Which resembles to a linear equation of a line: \n",
    "$$y = b_0 + m\\cdot x,$$\n",
    "and with the given values it would look like the following: \n",
    "$$y = 5 + 2\\cdot x$$\n",
    "\n",
    "#### The RSS (Residual Sum of Squares)\n",
    "Let's first create a set of different slopes which can be inserted in the above equation instead of `2`. What is the plan? \n",
    "\n",
    "With each slope we will have an array of `100` results that will be differentiated with `y` and then those differences will be squared. After that, we will sum those squared values which gives a number next appended in the `rss` list.\n",
    "\n",
    "In short, with each slope we will have a corresponding _sum value_ in our `rss` list. The next step is just to find the lowest value in the given list. Which will be accomplished with `np.argmin(rss)`. Since the index in the `rss` list is the same as the `slopes` list, we can find the slope corresponding to the lowest rss value."
   ]
  },
  {
   "cell_type": "code",
   "execution_count": 4,
   "metadata": {},
   "outputs": [
    {
     "name": "stdout",
     "output_type": "stream",
     "text": [
      "2.003999999993347\n"
     ]
    }
   ],
   "source": [
    "rss = []\n",
    "\n",
    "slopes = np.arange(-10,15,0.001)\n",
    "for slope in slopes:\n",
    "    rss.append(np.sum((y - beta_0 -slope*x)**2))\n",
    "\n",
    "ind_min = np.argmin(rss)\n",
    "\n",
    "print(slopes[ind_min])"
   ]
  },
  {
   "cell_type": "code",
   "execution_count": 5,
   "metadata": {},
   "outputs": [
    {
     "data": {
      "text/plain": [
       "Text(0, 0.5, '$RSS$')"
      ]
     },
     "execution_count": 5,
     "metadata": {},
     "output_type": "execute_result"
    },
    {
     "data": {
      "image/png": "[encoded data removed]",
      "text/plain": [
       "<Figure size 432x288 with 1 Axes>"
      ]
     },
     "metadata": {
      "needs_background": "light"
     },
     "output_type": "display_data"
    }
   ],
   "source": [
    "plt.figure()\n",
    "plt.plot(slopes,rss)\n",
    "plt.xlabel('slope')\n",
    "plt.ylabel('$RSS$')"
   ]
  },
  {
   "cell_type": "markdown",
   "metadata": {},
   "source": [
    "## Simple linear Regression in code"
   ]
  },
  {
   "cell_type": "code",
   "execution_count": 6,
   "metadata": {},
   "outputs": [
    {
     "name": "stdout",
     "output_type": "stream",
     "text": [
      "                                 OLS Regression Results                                \n",
      "=======================================================================================\n",
      "Dep. Variable:                      y   R-squared (uncentered):                   0.968\n",
      "Model:                            OLS   Adj. R-squared (uncentered):              0.967\n",
      "Method:                 Least Squares   F-statistic:                              2974.\n",
      "Date:                Sat, 05 Mar 2022   Prob (F-statistic):                    1.14e-75\n",
      "Time:                        08:05:21   Log-Likelihood:                         -246.89\n",
      "No. Observations:                 100   AIC:                                      495.8\n",
      "Df Residuals:                      99   BIC:                                      498.4\n",
      "Df Model:                           1                                                  \n",
      "Covariance Type:            nonrobust                                                  \n",
      "==============================================================================\n",
      "                 coef    std err          t      P>|t|      [0.025      0.975]\n",
      "------------------------------------------------------------------------------\n",
      "x1             2.7569      0.051     54.538      0.000       2.657       2.857\n",
      "==============================================================================\n",
      "Omnibus:                        7.901   Durbin-Watson:                   1.579\n",
      "Prob(Omnibus):                  0.019   Jarque-Bera (JB):                3.386\n",
      "Skew:                           0.139   Prob(JB):                        0.184\n",
      "Kurtosis:                       2.143   Cond. No.                         1.00\n",
      "==============================================================================\n",
      "\n",
      "Notes:\n",
      "[1] R² is computed without centering (uncentered) since the model does not contain a constant.\n",
      "[2] Standard Errors assume that the covariance matrix of the errors is correctly specified.\n"
     ]
    }
   ],
   "source": [
    "mod = sm.OLS(y, x)\n",
    "est = mod.fit()\n",
    "print(est.summary())"
   ]
  },
  {
   "cell_type": "code",
   "execution_count": 7,
   "metadata": {},
   "outputs": [
    {
     "name": "stdout",
     "output_type": "stream",
     "text": [
      "                            OLS Regression Results                            \n",
      "==============================================================================\n",
      "Dep. Variable:                      y   R-squared:                       0.977\n",
      "Model:                            OLS   Adj. R-squared:                  0.977\n",
      "Method:                 Least Squares   F-statistic:                     4115.\n",
      "Date:                Sat, 05 Mar 2022   Prob (F-statistic):           7.47e-82\n",
      "Time:                        08:05:21   Log-Likelihood:                -130.72\n",
      "No. Observations:                 100   AIC:                             265.4\n",
      "Df Residuals:                      98   BIC:                             270.7\n",
      "Df Model:                           1                                         \n",
      "Covariance Type:            nonrobust                                         \n",
      "==============================================================================\n",
      "                 coef    std err          t      P>|t|      [0.025      0.975]\n",
      "------------------------------------------------------------------------------\n",
      "const          5.2370      0.174     30.041      0.000       4.891       5.583\n",
      "x1             1.9685      0.031     64.151      0.000       1.908       2.029\n",
      "==============================================================================\n",
      "Omnibus:                        2.308   Durbin-Watson:                   2.206\n",
      "Prob(Omnibus):                  0.315   Jarque-Bera (JB):                1.753\n",
      "Skew:                          -0.189   Prob(JB):                        0.416\n",
      "Kurtosis:                       3.528   Cond. No.                         11.2\n",
      "==============================================================================\n",
      "\n",
      "Notes:\n",
      "[1] Standard Errors assume that the covariance matrix of the errors is correctly specified.\n"
     ]
    }
   ],
   "source": [
    "X = sm.add_constant(x)\n",
    "mod = sm.OLS(y, X)\n",
    "est = mod.fit()\n",
    "print(est.summary())"
   ]
  },
  {
   "cell_type": "markdown",
   "metadata": {},
   "source": [
    "## ScikitLearn for Linear regression"
   ]
  },
  {
   "cell_type": "code",
   "execution_count": 8,
   "metadata": {},
   "outputs": [],
   "source": [
    "n = 500\n",
    "beta_0 = 5\n",
    "beta_1 = 2\n",
    "beta_2 = -1\n",
    "np.random.seed(1)\n",
    "x_1 = 10*ss.uniform.rvs(size=n)\n",
    "x_2 = 10*ss.uniform.rvs(size=n)\n",
    "y = beta_0 + beta_1 * x_1 + beta_2*x_2 + ss.norm.rvs(loc=0,scale=1,size=n)\n",
    "\n",
    "X = np.stack([x_1, x_2], axis=1)"
   ]
  },
  {
   "cell_type": "code",
   "execution_count": 9,
   "metadata": {},
   "outputs": [
    {
     "data": {
      "text/plain": [
       "Text(0.5, 0, '$y$')"
      ]
     },
     "execution_count": 9,
     "metadata": {},
     "output_type": "execute_result"
    },
    {
     "data": {
      "image/png": "[encoded data removed]",
      "text/plain": [
       "<Figure size 432x288 with 1 Axes>"
      ]
     },
     "metadata": {
      "needs_background": "light"
     },
     "output_type": "display_data"
    }
   ],
   "source": [
    "fig = plt.figure()\n",
    "ax = fig.add_subplot(111,projection='3d')\n",
    "ax.scatter(X[:,0],X[:,1],y,c=y)\n",
    "ax.set_xlabel('$x_1$')\n",
    "ax.set_ylabel('$x_2$')\n",
    "ax.set_zlabel('$y$')"
   ]
  },
  {
   "cell_type": "code",
   "execution_count": 10,
   "metadata": {},
   "outputs": [
    {
     "data": {
      "text/plain": [
       "-1.020264486993336"
      ]
     },
     "execution_count": 10,
     "metadata": {},
     "output_type": "execute_result"
    }
   ],
   "source": [
    "lm = LinearRegression(fit_intercept=True)\n",
    "lm.fit(X,y)\n",
    "lm.intercept_\n",
    "lm.coef_[0]\n",
    "lm.coef_[1]"
   ]
  },
  {
   "cell_type": "markdown",
   "metadata": {},
   "source": [
    "Qué pasaría cuando le damos dos valores a x1 y x2?"
   ]
  },
  {
   "cell_type": "code",
   "execution_count": 11,
   "metadata": {},
   "outputs": [
    {
     "data": {
      "text/plain": [
       "0.9798997316600129"
      ]
     },
     "execution_count": 11,
     "metadata": {},
     "output_type": "execute_result"
    }
   ],
   "source": [
    "X_0 = np.array([2,4])\n",
    "lm.predict(X_0.reshape(1,-1))\n",
    "lm.score(X,y)"
   ]
  },
  {
   "cell_type": "code",
   "execution_count": 12,
   "metadata": {},
   "outputs": [
    {
     "data": {
      "text/plain": [
       "0.9794930834681773"
      ]
     },
     "execution_count": 12,
     "metadata": {},
     "output_type": "execute_result"
    }
   ],
   "source": [
    "X_train, X_test, y_train, y_test = train_test_split(X, y, train_size=0.5, random_state=1)\n",
    "lm = LinearRegression(fit_intercept=True)\n",
    "lm.fit(X_train, y_train)\n",
    "\n",
    "lm.score(X_test, y_test)"
   ]
  },
  {
   "cell_type": "markdown",
   "metadata": {},
   "source": [
    "## Logistic Regression\n",
    "Let's generate some classification data first."
   ]
  },
  {
   "cell_type": "code",
   "execution_count": 13,
   "metadata": {},
   "outputs": [
    {
     "data": {
      "image/png": "[encoded data removed]",
      "text/plain": [
       "<Figure size 432x288 with 1 Axes>"
      ]
     },
     "metadata": {
      "needs_background": "light"
     },
     "output_type": "display_data"
    }
   ],
   "source": [
    "def gen_data(n, h, sd1, sd2):\n",
    "    x1 = ss.norm.rvs(h,sd1,n)\n",
    "    y1 = ss.norm.rvs(0,sd1,n)\n",
    "    x2 = ss.norm.rvs(-h,sd2,n)\n",
    "    y2 = ss.norm.rvs(0,sd2,n)\n",
    "    return (x1, y1, x2, y2)\n",
    "\n",
    "def plot_data(x1, y1, x2, y2):\n",
    "    plt.figure()\n",
    "    plt.plot(x1, y1, 'o', ms=2, label='grupo 1')\n",
    "    plt.plot(x2, y2, 'o', ms=2, label='grupo 2')\n",
    "    plt.legend()\n",
    "    plt.xlabel('$x\\ values$')\n",
    "    plt.ylabel('$y\\ values$')\n",
    "\n",
    "\n",
    "(x1, y1, x2, y2) = gen_data(1000,1.5,1,1.5)\n",
    "\n",
    "plot_data(x1, y1, x2, y2)\n"
   ]
  },
  {
   "cell_type": "code",
   "execution_count": 14,
   "metadata": {},
   "outputs": [],
   "source": [
    "# # edx question: \n",
    "\n",
    "# def gen_data(n, h, sd1, sd2):\n",
    "#    x1 = ss.norm.rvs(h, sd1, n)\n",
    "#    y1 = ss.norm.rvs(0, sd1, n)\n",
    "#    x2 = ss.norm.rvs(-h, sd2, n)\n",
    "#    y2 = ss.norm.rvs(0, sd2, n)\n",
    "#    return (x1, y1, x2, y2)\n",
    "\n",
    "# def plot_data(x1, y1, x2, y2):\n",
    "#    plt.figure()\n",
    "#    plt.plot(x1, y1, \"o\", ms=2)\n",
    "#    plt.plot(x2, y2, \"o\", ms=2)\n",
    "#    plt.xlabel(\"$X_1$\")\n",
    "#    plt.ylabel(\"$X_2$\") "
   ]
  },
  {
   "cell_type": "code",
   "execution_count": 15,
   "metadata": {},
   "outputs": [],
   "source": [
    "# (x1,y1,x2,y2) = gen_data(1000,0,1,1)\n",
    "# plot_data(x1,y1,x2,y2)"
   ]
  },
  {
   "cell_type": "code",
   "execution_count": 16,
   "metadata": {},
   "outputs": [
    {
     "data": {
      "text/plain": [
       "4.000000000000001"
      ]
     },
     "execution_count": 16,
     "metadata": {},
     "output_type": "execute_result"
    }
   ],
   "source": [
    "def prob_to_odds(p):\n",
    "    if p <= 0 or p >= 1:\n",
    "        print(\"Probabilities must be between 0 and 1.\")\n",
    "    return p / (1-p)\n",
    "\n",
    "prob_to_odds(0.8)"
   ]
  },
  {
   "cell_type": "markdown",
   "metadata": {},
   "source": [
    "Creación del modelo de regresión logística"
   ]
  },
  {
   "cell_type": "code",
   "execution_count": 17,
   "metadata": {},
   "outputs": [
    {
     "data": {
      "text/plain": [
       "(2000, 2)"
      ]
     },
     "execution_count": 17,
     "metadata": {},
     "output_type": "execute_result"
    }
   ],
   "source": [
    "clf = LogisticRegression()\n",
    "\n",
    "X = np.vstack((np.vstack((x1,y1)).T, np.vstack((x2,y2)).T))\n",
    "\n",
    "X.shape"
   ]
  },
  {
   "cell_type": "markdown",
   "metadata": {},
   "source": [
    "Now adding two type of etiquettes(or labels).\n",
    "In this case, labels are just `1` or `2`, so an array of 1000 `1s` and 1000 `2s` (2000 values in total) will be created using ``np.hstack()``"
   ]
  },
  {
   "cell_type": "code",
   "execution_count": 18,
   "metadata": {},
   "outputs": [
    {
     "data": {
      "text/plain": [
       "(2000,)"
      ]
     },
     "execution_count": 18,
     "metadata": {},
     "output_type": "execute_result"
    }
   ],
   "source": [
    "# since the last value assigned to n was 50\n",
    "# let's reassign it\n",
    "n = 1000\n",
    "y = np.hstack((np.repeat(1,n),np.repeat(2,n)))\n",
    "y.shape"
   ]
  },
  {
   "cell_type": "markdown",
   "metadata": {},
   "source": [
    "For information about the meaning of shapes (2000, 2), or (2000,) or whatever it be, see [this StackOverflow response.](https://stackoverflow.com/questions/22053050/difference-between-numpy-array-shape-r-1-and-r)"
   ]
  },
  {
   "cell_type": "code",
   "execution_count": 19,
   "metadata": {},
   "outputs": [
    {
     "data": {
      "text/plain": [
       "LogisticRegression()"
      ]
     },
     "execution_count": 19,
     "metadata": {},
     "output_type": "execute_result"
    }
   ],
   "source": [
    "X_train, X_test, y_train, y_test = train_test_split(X,y,train_size=0.5, random_state=1)\n",
    "# # let's examine all the shapes\n",
    "# X_train.shape\n",
    "# X_test.shape\n",
    "# y_test.shape\n",
    "y_train.shape\n",
    "\n",
    "clf.fit(X_train, y_train)"
   ]
  },
  {
   "cell_type": "code",
   "execution_count": 20,
   "metadata": {},
   "outputs": [
    {
     "data": {
      "text/plain": [
       "0.877"
      ]
     },
     "execution_count": 20,
     "metadata": {},
     "output_type": "execute_result"
    }
   ],
   "source": [
    "clf.score(X_test,y_test)"
   ]
  },
  {
   "cell_type": "code",
   "execution_count": 21,
   "metadata": {},
   "outputs": [
    {
     "data": {
      "text/plain": [
       "array([[0.01569053, 0.98430947]])"
      ]
     },
     "execution_count": 21,
     "metadata": {},
     "output_type": "execute_result"
    }
   ],
   "source": [
    "clf.predict_proba(np.array([-2,0]).reshape(1,-1))"
   ]
  },
  {
   "cell_type": "code",
   "execution_count": 22,
   "metadata": {},
   "outputs": [
    {
     "data": {
      "text/plain": [
       "array([2])"
      ]
     },
     "execution_count": 22,
     "metadata": {},
     "output_type": "execute_result"
    }
   ],
   "source": [
    "clf.predict(np.array([-2,0]).reshape(1,-1))"
   ]
  },
  {
   "cell_type": "code",
   "execution_count": 23,
   "metadata": {},
   "outputs": [
    {
     "data": {
      "image/png": "[encoded data removed]",
      "text/plain": [
       "<Figure size 360x576 with 4 Axes>"
      ]
     },
     "metadata": {
      "needs_background": "light"
     },
     "output_type": "display_data"
    }
   ],
   "source": [
    "def plot_probs(ax, clf, class_no):\n",
    "    xx1, xx2 = np.meshgrid(np.arange(-5, 5, 0.1), np.arange(-5, 5, 0.1))\n",
    "    probs = clf.predict_proba(np.stack((xx1.ravel(), xx2.ravel()), axis=1))\n",
    "    Z = probs[:,class_no]\n",
    "    Z = Z.reshape(xx1.shape)\n",
    "    CS = ax.contourf(xx1, xx2, Z)\n",
    "    cbar = plt.colorbar(CS)\n",
    "    plt.xlabel(\"$X_1$\")\n",
    "    plt.ylabel(\"$X_2$\")\n",
    "    \n",
    "plt.figure(figsize=(5,8))\n",
    "ax = plt.subplot(211)\n",
    "plot_probs(ax, clf, 0)\n",
    "plt.title(\"Pred. prob for class 1\")\n",
    "ax = plt.subplot(212)\n",
    "plot_probs(ax, clf, 1)\n",
    "plt.title(\"Pred. prob for class 2\");"
   ]
  },
  {
   "cell_type": "code",
   "execution_count": 24,
   "metadata": {},
   "outputs": [],
   "source": [
    "# xx1, xx2 = np.meshgrid(np.arange(-2, 2, 1), np.arange(-2, 2, 1))\n",
    "\n",
    "# # tengo problemas para entender np.stack()... so:\n",
    "# # a = np.array([1, 2, 3])\n",
    "\n",
    "# # b = np.array([4, 5, 6])\n",
    "\n",
    "# # np.stack((a, b))\n",
    "# # # array([[1, 2, 3],\n",
    "# # #        [4, 5, 6]])\n",
    "# # np.stack((a,b),axis=0)\n",
    "# arrays = [np.random.randn(1, 2) for _ in range(2)]\n",
    "# print(arrays)\n",
    "# a = np.stack(arrays, axis=1)\n",
    "# a"
   ]
  },
  {
   "cell_type": "code",
   "execution_count": 25,
   "metadata": {},
   "outputs": [],
   "source": [
    "# #for i in range(1):\n",
    "# a = np.random.randn(2,1,3,2)\n",
    "# print(a)\n",
    "# a.T"
   ]
  }
 ],
 "metadata": {
  "interpreter": {
   "hash": "7ce9cdae14fce8d3bdbe53314adcb46b08f2e6af86fc7cd8dfcae7b323f8b65a"
  },
  "kernelspec": {
   "display_name": "Python 3.9.7 ('base')",
   "language": "python",
   "name": "python3"
  },
  "language_info": {
   "codemirror_mode": {
    "name": "ipython",
    "version": 3
   },
   "file_extension": ".py",
   "mimetype": "text/x-python",
   "name": "python",
   "nbconvert_exporter": "python",
   "pygments_lexer": "ipython3",
   "version": "3.9.7"
  },
  "orig_nbformat": 4
 },
 "nbformat": 4,
 "nbformat_minor": 2
}
