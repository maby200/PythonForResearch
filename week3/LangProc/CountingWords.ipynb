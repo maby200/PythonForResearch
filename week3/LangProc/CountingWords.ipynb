{
 "cells": [
  {
   "cell_type": "markdown",
   "metadata": {},
   "source": [
    "## Counting Words"
   ]
  },
  {
   "cell_type": "code",
   "execution_count": 1,
   "metadata": {},
   "outputs": [],
   "source": [
    "import matplotlib.pyplot as plt"
   ]
  },
  {
   "cell_type": "code",
   "execution_count": 2,
   "metadata": {},
   "outputs": [
    {
     "data": {
      "text/plain": [
       "{'this': 1,\n",
       " 'is': 1,\n",
       " 'my': 1,\n",
       " 'test': 1,\n",
       " 'text': 2,\n",
       " 'were': 1,\n",
       " 'keeping': 1,\n",
       " 'short': 1,\n",
       " 'to': 1,\n",
       " 'keep': 1,\n",
       " 'things': 1,\n",
       " 'manageable': 1}"
      ]
     },
     "execution_count": 2,
     "metadata": {},
     "output_type": "execute_result"
    }
   ],
   "source": [
    "text = \"This is my test text. We're keeping text short to keep things manageable.\"\n",
    "\n",
    "def count_words(text):\n",
    "    \n",
    "    \"\"\"Counts the number of times a word can appear in a text \"\"\"\n",
    "\n",
    "    text = text.lower()\n",
    "    skips = [\".\",\",\",\";\",\":\",\"'\",'\"']\n",
    "    for ch in skips:\n",
    "        text = text.replace(ch,\"\") \n",
    "    \n",
    "    word_counts = {}\n",
    "    for word in text.split(\" \"):\n",
    "        if word in word_counts:\n",
    "            word_counts[word] += 1\n",
    "        else:\n",
    "            word_counts[word] = 1\n",
    "\n",
    "    return word_counts\n",
    "\n",
    "count_words(text)"
   ]
  },
  {
   "cell_type": "code",
   "execution_count": 3,
   "metadata": {},
   "outputs": [
    {
     "data": {
      "text/plain": [
       "Counter({'this': 1,\n",
       "         'is': 1,\n",
       "         'my': 1,\n",
       "         'test': 1,\n",
       "         'text': 2,\n",
       "         'were': 1,\n",
       "         'keeping': 1,\n",
       "         'short': 1,\n",
       "         'to': 1,\n",
       "         'keep': 1,\n",
       "         'things': 1,\n",
       "         'manageable': 1})"
      ]
     },
     "execution_count": 3,
     "metadata": {},
     "output_type": "execute_result"
    }
   ],
   "source": [
    "from collections import Counter\n",
    "\n",
    "def count_words_fast(text):\n",
    "    \n",
    "    \"\"\"Counts the number of times a word can appear in a text \"\"\"\n",
    "\n",
    "    text = text.lower()\n",
    "    skips = [\".\",\",\",\";\",\":\",\"'\",'\"']\n",
    "    for ch in skips:\n",
    "        text = text.replace(ch,\"\") \n",
    "    \n",
    "    word_counts = Counter(text.split(\" \"))\n",
    "    return word_counts\n",
    "\n",
    "count_words_fast(text)\n",
    "\n",
    "# count_words_fast(text) is count_words(text)"
   ]
  },
  {
   "cell_type": "markdown",
   "metadata": {},
   "source": [
    "## Reading in a Book"
   ]
  },
  {
   "cell_type": "code",
   "execution_count": 4,
   "metadata": {},
   "outputs": [
    {
     "data": {
      "text/plain": [
       "\"What's in a name? That which we call a rose    By any other name would smell as sweet.    So Romeo would, were he not Romeo call'd,    Retain that dear perfection which he owes    Without that title. Romeo, doff thy name;    And for that name, which is no part of thee,    Take all myself.  Rom. I take thee at thy word.    Call me but love, and I'll be new baptiz'd;    Henceforth I never will be Romeo.  Jul. What man art thou that, thus bescreen'd in night,    So stumblest on my counsel?  Rom. By a name    I know not how to tell thee who I am.    My name, dear saint, is hateful to myself,    Because it is an enemy to thee.    Had I it written, I would tear the word.  Jul. My ears have yet not drunk a hundred words    Of that tongue's utterance, yet I know the sound.    Art thou not Romeo, and a Montague?  Rom. Neither, fair saint, if either thee dislike.  Jul. How cam'st thou hither, tell me, and wherefore?    The orchard walls are high and hard to climb,    And the place death, conside\""
      ]
     },
     "execution_count": 4,
     "metadata": {},
     "output_type": "execute_result"
    }
   ],
   "source": [
    "def read_book(title_path):\n",
    "    \"\"\"Opens a book and replaces '\\n' and '\\r' in the text\"\"\"\n",
    "    with open(title_path,\"r\",encoding='utf8') as current_file:\n",
    "        text = current_file.read()\n",
    "        text = text.replace(\"\\n\",\"\").replace(\"\\r\",\"\")\n",
    "    return text\n",
    "\n",
    "text = read_book(\"./books/Books_EngFr/English/shakespeare/Romeo and Juliet.txt\")\n",
    "#len(text)\n",
    "ind = text.find(\"What's in a name?\")\n",
    "\n",
    "sample_text = text[ind:ind + 1000]\n",
    "sample_text"
   ]
  },
  {
   "cell_type": "markdown",
   "metadata": {},
   "source": [
    "## Computing word Freq Stats"
   ]
  },
  {
   "cell_type": "code",
   "execution_count": 5,
   "metadata": {},
   "outputs": [],
   "source": [
    "def word_stats(word_counts):\n",
    "    \"\"\"Return number of unique words and word freq\"\"\"\n",
    "    num_unique = len(word_counts) #cantidad de palabras totales (solo cuenta una por más que se repitan)\n",
    "    counts = word_counts.values() # cantidad de palabras totales (por más que se repiten,\n",
    "                                  # es como para saber el contenido total del texto)\n",
    "    return (num_unique,counts)\n",
    "\n",
    "word_counts = count_words(text)"
   ]
  },
  {
   "cell_type": "code",
   "execution_count": 6,
   "metadata": {},
   "outputs": [],
   "source": [
    "en_text = read_book(\"./books/Books_EngFr/English/shakespeare/Romeo and Juliet.txt\")\n",
    "en_word_counts = count_words(en_text)\n",
    "text_english = word_stats(en_word_counts)\n",
    "\n",
    "de_text = read_book(\"./books/Books_GerPort/German/shakespeare/Romeo und Julia.txt\")\n",
    "de_word_counts = count_words(de_text)\n",
    "text_deutsch = word_stats(de_word_counts)"
   ]
  },
  {
   "cell_type": "code",
   "execution_count": null,
   "metadata": {},
   "outputs": [],
   "source": [
    "# text = \"This is my test text. We're keeping text short to keep things manageable.\"\n",
    "word_counts = count_words(text)\n",
    "word_stats(word_counts)"
   ]
  },
  {
   "cell_type": "markdown",
   "metadata": {},
   "source": [
    "## Reading multiple files"
   ]
  },
  {
   "cell_type": "code",
   "execution_count": 11,
   "metadata": {},
   "outputs": [
    {
     "ename": "NotADirectoryError",
     "evalue": "[Errno 20] Not a directory: './books/Books_EngFr/English/.DS_Store'",
     "output_type": "error",
     "traceback": [
      "\u001b[0;31m---------------------------------------------------------------------------\u001b[0m",
      "\u001b[0;31mNotADirectoryError\u001b[0m                        Traceback (most recent call last)",
      "\u001b[0;32m/tmp/ipykernel_261/2388215889.py\u001b[0m in \u001b[0;36m<module>\u001b[0;34m\u001b[0m\n\u001b[1;32m      9\u001b[0m     \u001b[0;32mfor\u001b[0m \u001b[0mlanguage\u001b[0m \u001b[0;32min\u001b[0m \u001b[0mos\u001b[0m\u001b[0;34m.\u001b[0m\u001b[0mlistdir\u001b[0m\u001b[0;34m(\u001b[0m\u001b[0mbook_dir\u001b[0m \u001b[0;34m+\u001b[0m \u001b[0;34m'/'\u001b[0m \u001b[0;34m+\u001b[0m \u001b[0mfolder\u001b[0m\u001b[0;34m)\u001b[0m\u001b[0;34m:\u001b[0m\u001b[0;34m\u001b[0m\u001b[0;34m\u001b[0m\u001b[0m\n\u001b[1;32m     10\u001b[0m         \u001b[0;32mfor\u001b[0m \u001b[0mauthor\u001b[0m \u001b[0;32min\u001b[0m \u001b[0mos\u001b[0m\u001b[0;34m.\u001b[0m\u001b[0mlistdir\u001b[0m\u001b[0;34m(\u001b[0m\u001b[0mbook_dir\u001b[0m \u001b[0;34m+\u001b[0m \u001b[0;34m'/'\u001b[0m \u001b[0;34m+\u001b[0m \u001b[0mfolder\u001b[0m \u001b[0;34m+\u001b[0m \u001b[0;34m'/'\u001b[0m \u001b[0;34m+\u001b[0m \u001b[0mlanguage\u001b[0m \u001b[0;34m)\u001b[0m\u001b[0;34m:\u001b[0m\u001b[0;34m\u001b[0m\u001b[0;34m\u001b[0m\u001b[0m\n\u001b[0;32m---> 11\u001b[0;31m             \u001b[0;32mfor\u001b[0m \u001b[0mtitle\u001b[0m \u001b[0;32min\u001b[0m \u001b[0mos\u001b[0m\u001b[0;34m.\u001b[0m\u001b[0mlistdir\u001b[0m\u001b[0;34m(\u001b[0m\u001b[0mbook_dir\u001b[0m \u001b[0;34m+\u001b[0m \u001b[0;34m'/'\u001b[0m \u001b[0;34m+\u001b[0m \u001b[0mfolder\u001b[0m \u001b[0;34m+\u001b[0m \u001b[0;34m'/'\u001b[0m \u001b[0;34m+\u001b[0m \u001b[0mlanguage\u001b[0m \u001b[0;34m+\u001b[0m \u001b[0;34m'/'\u001b[0m \u001b[0;34m+\u001b[0m \u001b[0mauthor\u001b[0m\u001b[0;34m)\u001b[0m\u001b[0;34m:\u001b[0m\u001b[0;34m\u001b[0m\u001b[0;34m\u001b[0m\u001b[0m\n\u001b[0m\u001b[1;32m     12\u001b[0m                 \u001b[0minputfile\u001b[0m \u001b[0;34m=\u001b[0m \u001b[0mbook_dir\u001b[0m \u001b[0;34m+\u001b[0m \u001b[0;34m'/'\u001b[0m \u001b[0;34m+\u001b[0m \u001b[0mfolder\u001b[0m \u001b[0;34m+\u001b[0m \u001b[0;34m'/'\u001b[0m \u001b[0;34m+\u001b[0m \u001b[0mlanguage\u001b[0m \u001b[0;34m+\u001b[0m \u001b[0;34m'/'\u001b[0m \u001b[0;34m+\u001b[0m \u001b[0mauthor\u001b[0m \u001b[0;34m+\u001b[0m \u001b[0;34m'/'\u001b[0m \u001b[0;34m+\u001b[0m \u001b[0mtitle\u001b[0m\u001b[0;34m\u001b[0m\u001b[0;34m\u001b[0m\u001b[0m\n\u001b[1;32m     13\u001b[0m                 \u001b[0mtext\u001b[0m \u001b[0;34m=\u001b[0m \u001b[0mread_book\u001b[0m\u001b[0;34m(\u001b[0m\u001b[0minputfile\u001b[0m\u001b[0;34m)\u001b[0m\u001b[0;34m\u001b[0m\u001b[0;34m\u001b[0m\u001b[0m\n",
      "\u001b[0;31mNotADirectoryError\u001b[0m: [Errno 20] Not a directory: './books/Books_EngFr/English/.DS_Store'"
     ]
    }
   ],
   "source": [
    "import os\n",
    "import pandas as pd\n",
    "\n",
    "book_dir = './books'\n",
    "stats = pd.DataFrame(columns = (\"Language\", \"Author\", \"Title\", \"Length\", \"Unique words\"))\n",
    "title_num = 1\n",
    "\n",
    "for folder in os.listdir(book_dir):\n",
    "    for language in os.listdir(book_dir + '/' + folder):\n",
    "        for author in os.listdir(book_dir + '/' + folder + '/' + language ):\n",
    "            for title in os.listdir(book_dir + '/' + folder + '/' + language + '/' + author):\n",
    "                inputfile = book_dir + '/' + folder + '/' + language + '/' + author + '/' + title\n",
    "                text = read_book(inputfile)\n",
    "                (num_unique , counts) = word_stats(count_words(text))\n",
    "                stats.loc[title_num] = language,author, title, sum(counts), num_unique\n",
    "                title_num += 1\n"
   ]
  }
 ],
 "metadata": {
  "interpreter": {
   "hash": "7ce9cdae14fce8d3bdbe53314adcb46b08f2e6af86fc7cd8dfcae7b323f8b65a"
  },
  "kernelspec": {
   "display_name": "Python 3.9.7 64-bit ('base': conda)",
   "language": "python",
   "name": "python3"
  },
  "language_info": {
   "codemirror_mode": {
    "name": "ipython",
    "version": 3
   },
   "file_extension": ".py",
   "mimetype": "text/x-python",
   "name": "python",
   "nbconvert_exporter": "python",
   "pygments_lexer": "ipython3",
   "version": "3.9.7"
  },
  "orig_nbformat": 4
 },
 "nbformat": 4,
 "nbformat_minor": 2
}
