{
 "cells": [
  {
   "cell_type": "markdown",
   "metadata": {},
   "source": [
    "## Counting Words"
   ]
  },
  {
   "cell_type": "code",
   "execution_count": 2,
   "metadata": {},
   "outputs": [],
   "source": [
    "import matplotlib.pyplot as plt"
   ]
  },
  {
   "cell_type": "code",
   "execution_count": 3,
   "metadata": {},
   "outputs": [
    {
     "data": {
      "text/plain": [
       "{'this': 1,\n",
       " 'is': 1,\n",
       " 'my': 1,\n",
       " 'test': 1,\n",
       " 'text': 2,\n",
       " 'were': 1,\n",
       " 'keeping': 1,\n",
       " 'short': 1,\n",
       " 'to': 1,\n",
       " 'keep': 1,\n",
       " 'things': 1,\n",
       " 'manageable': 1}"
      ]
     },
     "execution_count": 3,
     "metadata": {},
     "output_type": "execute_result"
    }
   ],
   "source": [
    "text = \"This is my test text. We're keeping text short to keep things manageable.\"\n",
    "\n",
    "def count_words(text):\n",
    "    \n",
    "    \"\"\"Counts the number of times a word can appear in a text \"\"\"\n",
    "\n",
    "    text = text.lower()\n",
    "    skips = [\".\",\",\",\";\",\":\",\"'\",'\"']\n",
    "    for ch in skips:\n",
    "        text = text.replace(ch,\"\") \n",
    "    \n",
    "    word_counts = {}\n",
    "    for word in text.split(\" \"):\n",
    "        if word in word_counts:\n",
    "            word_counts[word] += 1\n",
    "        else:\n",
    "            word_counts[word] = 1\n",
    "\n",
    "    return word_counts\n",
    "\n",
    "count_words(text)"
   ]
  },
  {
   "cell_type": "code",
   "execution_count": 4,
   "metadata": {},
   "outputs": [
    {
     "data": {
      "text/plain": [
       "Counter({'this': 1,\n",
       "         'is': 1,\n",
       "         'my': 1,\n",
       "         'test': 1,\n",
       "         'text': 2,\n",
       "         'were': 1,\n",
       "         'keeping': 1,\n",
       "         'short': 1,\n",
       "         'to': 1,\n",
       "         'keep': 1,\n",
       "         'things': 1,\n",
       "         'manageable': 1})"
      ]
     },
     "execution_count": 4,
     "metadata": {},
     "output_type": "execute_result"
    }
   ],
   "source": [
    "from collections import Counter\n",
    "\n",
    "def count_words_fast(text):\n",
    "    \n",
    "    \"\"\"Counts the number of times a word can appear in a text \"\"\"\n",
    "\n",
    "    text = text.lower()\n",
    "    skips = [\".\",\",\",\";\",\":\",\"'\",'\"']\n",
    "    for ch in skips:\n",
    "        text = text.replace(ch,\"\") \n",
    "    \n",
    "    word_counts = Counter(text.split(\" \"))\n",
    "    return word_counts\n",
    "\n",
    "count_words_fast(text)\n",
    "\n",
    "# count_words_fast(text) is count_words(text)"
   ]
  },
  {
   "cell_type": "markdown",
   "metadata": {},
   "source": [
    "## Reading in a Book"
   ]
  },
  {
   "cell_type": "code",
   "execution_count": 5,
   "metadata": {},
   "outputs": [
    {
     "data": {
      "text/plain": [
       "\"What's in a name? That which we call a rose    By any other name would smell as sweet.    So Romeo would, were he not Romeo call'd,    Retain that dear perfection which he owes    Without that title. Romeo, doff thy name;    And for that name, which is no part of thee,    Take all myself.  Rom. I take thee at thy word.    Call me but love, and I'll be new baptiz'd;    Henceforth I never will be Romeo.  Jul. What man art thou that, thus bescreen'd in night,    So stumblest on my counsel?  Rom. By a name    I know not how to tell thee who I am.    My name, dear saint, is hateful to myself,    Because it is an enemy to thee.    Had I it written, I would tear the word.  Jul. My ears have yet not drunk a hundred words    Of that tongue's utterance, yet I know the sound.    Art thou not Romeo, and a Montague?  Rom. Neither, fair saint, if either thee dislike.  Jul. How cam'st thou hither, tell me, and wherefore?    The orchard walls are high and hard to climb,    And the place death, conside\""
      ]
     },
     "execution_count": 5,
     "metadata": {},
     "output_type": "execute_result"
    }
   ],
   "source": [
    "def read_book(title_path):\n",
    "    \"\"\"Opens a book and replaces '\\n' and '\\r' in the text\"\"\"\n",
    "    with open(title_path,\"r\",encoding='utf8') as current_file:\n",
    "        text = current_file.read()\n",
    "        text = text.replace(\"\\n\",\"\").replace(\"\\r\",\"\")\n",
    "    return text\n",
    "\n",
    "text = read_book(\"./books/English/shakespeare/Romeo and Juliet.txt\")\n",
    "#len(text)\n",
    "ind = text.find(\"What's in a name?\")\n",
    "\n",
    "sample_text = text[ind:ind + 1000]\n",
    "sample_text"
   ]
  },
  {
   "cell_type": "markdown",
   "metadata": {},
   "source": [
    "## Computing word Freq Stats"
   ]
  },
  {
   "cell_type": "code",
   "execution_count": 6,
   "metadata": {},
   "outputs": [],
   "source": [
    "def word_stats(word_counts):\n",
    "    \"\"\"Return number of unique words and word freq\"\"\"\n",
    "    num_unique = len(word_counts) #cantidad de palabras totales (solo cuenta una por más que se repitan)\n",
    "    counts = word_counts.values() # cantidad de palabras totales (por más que se repiten,\n",
    "                                  # es como para saber el contenido total del texto)\n",
    "    return (num_unique,counts)\n",
    "\n",
    "word_counts = count_words(text)"
   ]
  },
  {
   "cell_type": "code",
   "execution_count": 7,
   "metadata": {},
   "outputs": [],
   "source": [
    "en_text = read_book(\"./books/English/shakespeare/Romeo and Juliet.txt\")\n",
    "en_word_counts = count_words(en_text)\n",
    "text_english = word_stats(en_word_counts)\n",
    "\n",
    "de_text = read_book(\"./books/German/shakespeare/Romeo und Julia.txt\")\n",
    "de_word_counts = count_words(de_text)\n",
    "text_deutsch = word_stats(de_word_counts)"
   ]
  },
  {
   "cell_type": "code",
   "execution_count": 8,
   "metadata": {},
   "outputs": [
    {
     "data": {
      "text/plain": [
       "(5118,\n",
       " dict_values([1, 67, 23, 10, 527, 116, 777, 57, 126, 7, 1, 367, 254, 834, 26, 5, 3, 82, 112, 4, 2, 2, 2, 12183, 348, 64, 10, 235, 52, 21, 2, 14, 20, 11, 2, 257, 137, 4, 1, 1, 1, 7, 1, 1, 1, 1, 1, 1, 1, 1, 1, 3, 1, 4, 606, 1, 286, 18, 1, 2, 4, 26, 1, 111, 2, 1, 1, 2, 1, 3, 1, 21, 12, 9, 1, 6, 1, 4, 1, 21, 1, 10, 1, 88, 1, 41, 189, 1, 1, 2, 1, 4, 1, 509, 9, 1, 1, 21, 1, 1, 14, 1, 1, 1, 1, 1, 1, 1, 6, 2, 3, 9, 1, 141, 18, 166, 51, 1, 1, 12, 1, 277, 4, 1, 1, 1, 5, 2, 1, 355, 1, 29, 1, 1, 1, 1, 3, 2, 35, 11, 32, 23, 5, 11, 27, 7, 24, 3, 2, 5, 31, 30, 88, 35, 62, 1, 16, 50, 4, 61, 19, 15, 13, 84, 9, 3, 9, 3, 6, 1, 2, 5, 12, 5, 136, 3, 10, 9, 3, 42, 12, 6, 7, 2, 23, 3, 1, 2, 1, 1, 2, 1, 1, 13, 2, 58, 2, 2, 3, 374, 1, 42, 54, 73, 11, 65, 7, 96, 9, 1, 5, 16, 2, 4, 15, 13, 13, 1, 19, 4, 1, 45, 2, 2, 1, 8, 41, 47, 21, 15, 1, 5, 1, 47, 63, 3, 2, 2, 7, 1, 1, 120, 1, 4, 70, 1, 9, 3, 18, 5, 73, 6, 1, 2, 100, 3, 7, 3, 160, 72, 112, 2, 3, 1, 2, 1, 577, 1, 2, 1, 3, 1, 1, 20, 87, 360, 25, 67, 3, 1, 15, 81, 51, 226, 1, 9, 2, 11, 30, 6, 19, 2, 52, 1, 4, 5, 25, 6, 275, 54, 5, 21, 1, 243, 9, 5, 2, 25, 23, 1, 152, 10, 46, 8, 6, 6, 129, 3, 3, 1, 3, 41, 25, 4, 1, 1, 12, 3, 1, 20, 139, 4, 9, 3, 3, 29, 110, 61, 10, 14, 1, 54, 130, 4, 4, 1, 4, 10, 1, 1, 3, 30, 61, 49, 7, 60, 2, 4, 6, 2, 6, 2, 6, 20, 1, 164, 1, 24, 2, 1, 1, 1, 2, 1, 28, 2, 12, 1, 14, 22, 4, 45, 12, 1, 43, 3, 2, 3, 1, 20, 4, 8, 6, 1, 12, 5, 102, 6, 48, 3, 1, 4, 49, 1, 2, 5, 82, 12, 4, 2, 20, 6, 1, 2, 4, 64, 26, 1, 1, 17, 1, 16, 54, 36, 17, 3, 6, 1, 1, 2, 29, 45, 17, 16, 6, 2, 12, 2, 10, 7, 1, 2, 2, 2, 1, 1, 1, 4, 2, 1, 1, 1, 53, 5, 8, 10, 1, 1, 39, 23, 1, 3, 94, 1, 1, 4, 10, 16, 1, 17, 73, 2, 11, 9, 4, 5, 1, 1, 1, 1, 1, 1, 1, 1, 1, 2, 6, 1, 1, 1, 1, 1, 3, 4, 15, 7, 1, 1, 2, 9, 22, 4, 2, 1, 3, 1, 1, 4, 4, 2, 3, 13, 1, 2, 1, 2, 2, 23, 13, 5, 2, 14, 4, 4, 3, 3, 4, 8, 1, 2, 3, 9, 9, 67, 11, 2, 2, 33, 15, 1, 27, 36, 1, 1, 2, 6, 1, 20, 38, 3, 2, 1, 13, 2, 1, 119, 2, 1, 1, 19, 13, 2, 13, 5, 5, 1, 92, 5, 1, 2, 3, 22, 1, 10, 152, 10, 10, 2, 7, 2, 50, 2, 17, 16, 21, 1, 14, 1, 4, 5, 4, 1, 8, 1, 3, 3, 2, 1, 1, 1, 1, 1, 16, 1, 38, 4, 2, 1, 9, 1, 2, 1, 1, 3, 16, 18, 4, 6, 9, 54, 16, 2, 1, 2, 3, 1, 2, 1, 2, 7, 64, 60, 6, 17, 1, 2, 3, 4, 1, 8, 6, 5, 13, 1, 1, 1, 1, 1, 1, 21, 26, 1, 6, 10, 2, 7, 1, 8, 2, 2, 2, 4, 1, 63, 10, 1, 6, 8, 7, 5, 7, 4, 1, 49, 4, 1, 1, 1, 1, 62, 1, 3, 5, 2, 1, 2, 1, 5, 2, 2, 32, 2, 7, 1, 11, 2, 2, 2, 56, 1, 3, 4, 1, 4, 83, 1, 37, 1, 3, 12, 25, 5, 7, 1, 1, 6, 10, 163, 31, 1, 2, 5, 14, 4, 1, 23, 1, 26, 1, 4, 1, 19, 1, 8, 7, 9, 1, 151, 2, 6, 12, 3, 1, 5, 1, 1, 14, 19, 27, 1, 1, 1, 6, 47, 45, 2, 9, 1, 6, 6, 2, 6, 9, 1, 1, 1, 1, 2, 1, 1, 1, 1, 6, 4, 2, 7, 7, 1, 1, 12, 16, 1, 4, 4, 9, 24, 3, 8, 3, 14, 1, 3, 29, 4, 1, 1, 14, 28, 2, 1, 12, 2, 1, 2, 1, 2, 7, 1, 2, 1, 1, 1, 2, 1, 17, 4, 13, 2, 3, 3, 11, 57, 1, 3, 1, 1, 22, 42, 18, 2, 1, 3, 1, 7, 2, 3, 1, 12, 4, 1, 7, 2, 2, 1, 111, 1, 11, 3, 2, 1, 2, 1, 3, 1, 2, 1, 5, 3, 1, 2, 1, 1, 4, 10, 17, 3, 2, 3, 1, 1, 1, 3, 1, 1, 1, 1, 5, 5, 2, 2, 3, 2, 4, 3, 36, 3, 9, 19, 3, 1, 3, 2, 9, 2, 3, 10, 4, 1, 2, 1, 10, 5, 3, 1, 8, 1, 5, 25, 3, 1, 2, 9, 2, 4, 8, 1, 2, 7, 1, 11, 22, 2, 13, 1, 4, 19, 1, 1, 1, 9, 1, 2, 23, 5, 1, 2, 1, 1, 25, 1, 1, 11, 14, 11, 1, 5, 6, 12, 2, 1, 2, 1, 3, 2, 48, 2, 1, 17, 1, 1, 1, 4, 14, 5, 9, 17, 1, 2, 19, 1, 5, 1, 6, 1, 1, 2, 7, 4, 6, 1, 6, 7, 28, 10, 2, 1, 1, 2, 1, 1, 1, 12, 3, 1, 1, 1, 11, 1, 14, 2, 2, 6, 2, 9, 24, 2, 6, 7, 1, 1, 1, 18, 1, 1, 1, 2, 7, 1, 1, 1, 1, 3, 7, 18, 4, 6, 2, 3, 1, 1, 3, 2, 1, 1, 1, 1, 3, 2, 8, 1, 1, 2, 18, 1, 14, 1, 1, 2, 17, 1, 1, 2, 7, 1, 5, 2, 1, 3, 1, 1, 1, 1, 6, 23, 1, 1, 1, 4, 2, 1, 6, 1, 6, 1, 11, 1, 3, 1, 4, 1, 5, 1, 2, 1, 1, 1, 1, 2, 1, 5, 1, 1, 7, 1, 1, 1, 1, 1, 1, 1, 1, 1, 1, 4, 1, 7, 3, 1, 10, 9, 1, 3, 1, 14, 14, 7, 1, 6, 1, 1, 4, 1, 3, 19, 1, 4, 1, 1, 1, 1, 1, 3, 1, 1, 1, 2, 1, 2, 1, 10, 4, 11, 1, 6, 1, 1, 1, 1, 9, 10, 1, 1, 3, 12, 6, 2, 1, 3, 1, 4, 6, 1, 1, 2, 3, 1, 3, 1, 1, 2, 2, 117, 4, 2, 25, 1, 1, 4, 1, 1, 5, 5, 15, 1, 1, 1, 1, 1, 1, 2, 16, 2, 2, 3, 3, 1, 1, 1, 2, 1, 1, 1, 17, 5, 2, 2, 2, 1, 3, 2, 1, 2, 3, 4, 1, 14, 1, 2, 5, 1, 3, 11, 2, 1, 1, 12, 1, 2, 4, 11, 3, 5, 1, 6, 4, 2, 3, 1, 2, 4, 2, 6, 1, 11, 7, 1, 2, 8, 4, 2, 3, 1, 2, 1, 2, 1, 6, 1, 2, 1, 1, 1, 10, 1, 6, 2, 1, 3, 2, 18, 6, 26, 1, 4, 2, 1, 4, 10, 1, 2, 3, 1, 10, 1, 6, 9, 5, 1, 6, 1, 2, 2, 9, 1, 4, 2, 2, 2, 1, 11, 1, 11, 3, 3, 1, 1, 1, 3, 1, 1, 2, 1, 3, 1, 1, 2, 1, 5, 5, 1, 1, 1, 1, 1, 1, 5, 5, 4, 2, 3, 2, 3, 1, 1, 1, 1, 1, 7, 8, 10, 1, 2, 4, 6, 2, 5, 1, 1, 1, 6, 1, 1, 1, 3, 1, 1, 1, 1, 1, 1, 1, 1, 1, 1, 3, 1, 2, 7, 26, 6, 1, 62, 3, 4, 2, 2, 1, 1, 9, 1, 1, 5, 2, 9, 1, 1, 1, 1, 1, 2, 12, 3, 2, 2, 7, 11, 1, 5, 1, 1, 1, 2, 1, 1, 2, 1, 6, 1, 1, 1, 1, 3, 1, 1, 2, 2, 1, 1, 2, 1, 1, 1, 4, 1, 1, 1, 3, 1, 1, 1, 1, 1, 1, 1, 3, 8, 3, 1, 3, 1, 3, 2, 7, 5, 4, 1, 1, 3, 12, 1, 1, 4, 9, 1, 3, 2, 1, 5, 1, 1, 1, 1, 1, 13, 1, 1, 8, 1, 1, 1, 1, 1, 1, 1, 1, 7, 1, 1, 1, 2, 2, 1, 2, 1, 1, 2, 5, 1, 1, 5, 1, 1, 1, 2, 1, 4, 1, 1, 1, 1, 1, 9, 2, 1, 2, 3, 1, 1, 5, 2, 15, 3, 4, 1, 1, 1, 10, 1, 1, 1, 2, 2, 5, 1, 2, 1, 1, 1, 1, 1, 3, 1, 2, 1, 1, 1, 1, 1, 1, 1, 1, 1, 6, 1, 6, 2, 2, 1, 1, 1, 2, 1, 1, 2, 1, 1, 4, 1, 1, 1, 1, 1, 1, 1, 2, 1, 1, 1, 1, 1, 2, 1, 1, 1, 1, 3, 3, 3, 1, 1, 5, 2, 1, 1, 2, 1, 1, 1, 11, 1, 1, 1, 1, 1, 2, 2, 3, 8, 5, 1, 5, 2, 2, 4, 1, 1, 3, 1, 1, 14, 1, 2, 2, 1, 2, 1, 9, 2, 1, 1, 1, 1, 3, 1, 1, 1, 1, 1, 1, 12, 4, 2, 6, 2, 1, 1, 5, 1, 3, 1, 1, 1, 2, 1, 3, 1, 4, 2, 1, 9, 4, 1, 6, 4, 8, 1, 1, 1, 1, 9, 2, 1, 1, 1, 3, 6, 1, 2, 7, 7, 5, 1, 1, 3, 4, 1, 1, 1, 1, 1, 1, 1, 1, 5, 1, 2, 2, 1, 23, 6, 1, 2, 1, 2, 5, 1, 1, 1, 2, 1, 2, 1, 1, 3, 18, 1, 5, 1, 3, 6, 2, 4, 11, 1, 2, 1, 2, 1, 1, 10, 1, 4, 2, 7, 1, 5, 18, 2, 1, 11, 5, 2, 2, 1, 6, 2, 4, 1, 2, 2, 1, 2, 1, 1, 2, 1, 1, 1, 4, 4, 2, 1, 1, 4, 9, 2, 1, 1, 2, 1, 2, 1, 1, 1, 2, 1, 1, 3, 1, 1, 5, 2, 1, 1, 1, 3, 2, 3, 1, 3, 2, 1, 1, 1, 21, 1, 5, 1, 2, 2, 3, 2, 1, 1, 3, 2, 2, 2, 1, 23, 9, 1, 2, 4, 3, 4, 2, 3, 2, 1, 1, 1, 1, 3, 4, 1, 3, 1, 1, 1, 1, 6, 1, 2, 1, 2, 6, 7, 2, 3, 1, 1, 1, 4, 5, 5, 1, 8, 1, 1, 1, 4, 1, 5, 21, 5, 1, 1, 1, 1, 4, 2, 2, 2, 1, 8, 1, 1, 1, 2, 1, 2, 1, 1, 2, 1, 1, 1, 7, 1, 2, 1, 1, 2, 1, 1, 10, 9, 1, 2, 5, 1, 1, 1, 1, 1, 2, 1, 5, 1, 1, 1, 1, 1, 15, 2, 4, 1, 2, 4, 1, 1, 1, 1, 4, 3, 1, 1, 4, 3, 1, 2, 1, 1, 1, 3, 2, 2, 1, 1, 2, 1, 1, 1, 1, 1, 8, 1, 2, 1, 2, 1, 1, 2, 1, 1, 4, 1, 4, 4, 1, 5, 4, 1, 1, 1, 3, 1, 1, 1, 1, 1, 4, 7, 1, 1, 5, 1, 1, 1, 1, 1, 1, 1, 3, 1, 1, 3, 1, 1, 4, 10, 4, 10, 2, 2, 4, 2, 4, 3, 1, 6, 10, 2, 10, 4, 1, 4, 2, 1, 1, 8, 1, 1, 1, 1, 1, 2, 2, 1, 1, 1, 1, 1, 1, 1, 2, 1, 1, 2, 3, 1, 1, 1, 1, 2, 5, 5, 2, 7, 1, 1, 1, 1, 1, 1, 1, 1, 1, 1, 2, 1, 1, 1, 4, 5, 3, 3, 8, 2, 1, 10, 1, 2, 1, 3, 2, 1, 1, 2, 1, 1, 6, 11, 1, 9, 1, 1, 1, 2, 1, 2, 1, 1, 2, 1, 2, 4, 2, 1, 1, 3, 1, 2, 1, 1, 1, 1, 5, 3, 1, 1, 1, 3, 2, 1, 1, 1, 1, 1, 1, 1, 3, 1, 5, 2, 3, 1, 1, 10, 1, 1, 2, 1, 9, 1, 1, 1, 1, 1, 1, 2, 1, 1, 1, 1, 1, 1, 12, 2, 1, 1, 7, 3, 4, 1, 5, 1, 12, 1, 6, 1, 2, 1, 1, 2, 3, 3, 5, 6, 1, 4, 3, 1, 1, 1, 1, 1, 1, 2, 4, 1, 1, 1, 1, 13, 14, 1, 2, 1, 3, 1, 2, 5, 1, 1, 2, 4, 2, 1, 1, 3, 2, 1, 3, 1, 1, 1, 1, 2, 1, 1, 1, 1, 1, 2, 2, 1, 1, 10, 1, 1, 1, 1, 1, 1, 2, 2, 2, 1, 6, 1, 3, 1, 2, 1, 1, 1, 1, 2, 1, 1, 1, 1, 1, 8, 1, 4, 3, 12, 17, 1, 2, 2, 2, 5, 5, 7, 1, 1, 3, 2, 1, 1, 1, 2, 1, 1, 1, 1, 1, 1, 1, 2, 1, 2, 1, 4, 1, 1, 1, 2, 1, 2, 1, 6, 2, 7, 1, 4, 1, 1, 2, 1, 1, 1, 4, 1, 1, 1, 1, 2, 2, 1, 1, 1, 1, 1, 5, 3, 2, 1, 1, 1, 1, 1, 1, 1, 1, 1, 1, 1, 1, 1, 1, 1, 1, 2, 1, 24, 1, 1, 1, 1, 1, 5, 1, 1, 3, 5, 1, 1, 1, 1, 2, 2, 1, 1, 1, 1, 1, 1, 1, 2, 1, 2, 1, 3, 2, 2, 2, 1, 1, 3, 1, 1, 2, 1, 2, 2, 3, 2, 1, 1, 1, 5, 1, 1, 1, 3, 3, 1, 2, 1, 1, 6, 1, 3, 2, 1, 1, 1, 1, 2, 4, 1, 7, 1, 5, 1, 2, 1, 1, 5, 2, 1, 1, 1, 1, 1, 1, 3, 1, 11, 4, 1, 2, 3, 3, 1, 4, 1, 4, 13, 2, 2, 1, 9, 1, 2, 1, 1, 1, 1, 1, 1, 3, 2, 1, 1, 1, 2, 1, 1, 1, 1, 1, 1, 2, 1, 1, 1, 1, 7, 3, 2, 1, 1, 1, 1, 1, 1, 1, 1, 1, 1, 1, 1, 5, 1, 1, 4, 1, 1, 7, 4, 1, 6, 1, 1, 1, 1, 1, 1, 1, 1, 1, 1, 1, 1, 1, 1, 1, 1, 1, 1, 1, 1, 1, 1, 1, 1, 2, 1, 1, 2, 2, 2, 1, 1, 3, 1, 1, 1, 1, 3, 1, 2, 2, 1, 1, 1, 2, 2, 2, 2, 2, 1, 1, 3, 2, 1, 1, 1, 1, 4, 5, 3, 2, 2, 1, 2, 1, 1, 1, 1, 1, 1, 1, 1, 3, 1, 1, 3, 1, 1, 1, 1, 1, 1, 1, 5, 1, 1, 4, 1, 1, 1, 2, 1, 1, 1, 1, 1, 1, 1, 1, 1, 2, 2, 1, 1, 4, 1, 1, 1, 1, 4, 2, 2, 1, 1, 1, 4, 1, 2, 1, 1, 1, 2, 1, 1, 5, 1, 1, 4, 1, 4, 3, 2, 3, 3, 1, 1, 1, 3, 1, 4, 1, 1, 4, 2, 1, 1, 1, 2, 2, 1, 1, 1, 2, 1, 3, 3, 1, 1, 3, 2, 2, 1, 1, 1, 1, 5, 3, 3, 5, 4, 1, 2, 3, 1, 2, 1, 2, 1, 11, 6, 1, 1, 1, 1, 1, 1, 2, 4, 2, 1, 1, 3, 3, 1, 1, 1, 4, 1, 1, 3, 1, 1, 1, 3, 1, 2, 1, 1, 1, 2, 1, 9, 1, 2, 1, 1, 1, 1, 1, 3, 2, 1, 1, 1, 1, 2, 2, 1, 1, 1, 1, 1, 1, 1, 1, 3, 3, 3, 2, 1, 1, 1, 1, 3, 1, 4, 2, 1, 3, 4, 1, 2, 2, 1, 11, 1, 2, 1, 4, 1, 5, 1, 1, 2, 2, 1, 2, 4, 2, 2, 4, 3, 2, 8, 1, 2, 1, 1, 1, 1, 1, 1, 3, 1, 1, 1, 1, 4, 2, 1, 1, 1, 1, 1, 1, 1, 3, 1, 1, 1, 1, 2, 1, 1, 3, 8, 2, 1, 9, 1, 2, 1, 3, 1, 2, 3, 2, 1, 2, 2, 1, 1, 1, 2, 2, 1, 2, 3, 1, 3, 1, 1, 1, 1, 1, 1, 2, 1, 1, 1, 1, 1, 2, 2, 1, 1, 1, 1, 1, 1, 1, 1, 2, 2, 2, 4, 2, 2, 1, 1, 2, 40, 1, 1, 1, 1, 2, 2, 1, 1, 1, 1, 1, 1, 1, 1, 1, 1, 1, 1, 1, 2, 1, 1, 1, 1, 1, 1, 5, 1, 2, 1, 1, 2, 1, 1, 1, 1, 1, 2, 1, 3, 1, 1, 1, 1, 1, 1, 3, 3, 10, 1, 1, 1, 4, 1, 3, 1, 1, 1, 1, 1, 3, 1, 2, 1, 1, 1, 1, 1, 1, 2, 1, 2, 3, 1, 1, 1, 2, 3, 1, 1, 1, 1, 1, 2, 1, 1, 1, 2, 2, 1, 2, 1, 2, 1, 1, 2, 1, 1, 2, 1, 2, 1, 1, 3, 4, 1, 1, 1, 3, 1, 1, 1, 1, 2, 1, 1, 1, 2, 3, 1, 1, 1, 9, 2, 2, 1, 6, 1, 3, 1, 1, 2, 11, 1, 1, 2, 1, 1, 2, 5, 2, 1, 1, 1, 1, 1, 2, 1, 1, 1, 1, 3, 3, 2, 1, 1, 3, 1, 3, 6, 14, 2, 4, 1, 3, 2, 1, 2, 6, 1, 2, 1, 8, 2, 1, 1, 1, 1, 2, 2, 1, 5, 2, 2, 4, 1, 1, 1, 1, 2, 1, 2, 2, 1, 2, 1, 1, 1, 1, 1, 1, 2, 1, 1, 3, 4, 1, 1, 1, 1, 3, 1, 3, 1, 1, 1, 1, 2, 2, 2, 1, 1, 3, 1, 4, 1, 2, 1, 1, 1, 2, 6, 1, 1, 1, 1, 1, 2, 4, 1, 1, 1, 1, 4, 2, 1, 1, 1, 1, 1, 1, 1, 2, 1, 1, 1, 1, 1, 2, 2, 1, 1, 2, 1, 1, 1, 1, 2, 1, 1, 1, 1, 2, 1, 1, 1, 1, 3, 1, 1, 1, 1, 1, 1, 2, 2, 2, 1, 2, 2, 1, 2, 2, 1, 1, 5, 1, 1, 1, 1, 1, 1, 1, 14, 1, 1, 1, 1, 2, 1, 3, 1, 1, 1, 1, 1, 1, 1, 7, 2, 1, 1, 1, 1, 1, 1, 1, 1, 2, 1, 1, 2, 1, 1, 1, 2, 1, 1, 5, 1, 5, 2, 12, 1, 2, 2, 1, 1, 1, 1, 1, 1, 1, 2, 1, 1, 1, 1, 1, 1, 2, 1, 1, 1, 4, 1, 1, 1, 2, 1, 1, 1, 1, 1, 1, 1, 1, 1, 1, 1, 2, 1, 2, 1, 1, 1, 3, 4, 2, 1, 1, 2, 2, 1, 1, 1, 1, 1, 2, 1, 2, 1, 1, 1, 1, 1, 1, 1, 1, 1, 2, 1, 1, 4, 2, 1, 4, 1, 1, 2, 1, 3, 1, 7, 1, 3, 1, 1, 1, 1, 1, 1, 1, 1, 2, 2, 1, 1, 1, 1, 3, 2, 1, 1, 1, 1, 2, 1, 2, 2, 1, 5, 2, 1, 1, 1, 1, 1, 1, 1, 2, 1, 1, 2, 2, 1, 1, 2, 1, 2, 1, 1, 2, 6, 1, 3, 1, 1, 2, 3, 1, 1, 1, 1, 1, 1, 1, 1, 1, 1, 2, 5, 1, 1, 1, 1, 1, 1, 1, 1, 1, 2, 1, 4, 2, 1, 1, 1, 5, 1, 2, 1, 1, 1, 1, 1, 2, 1, 1, 1, 1, 1, 1, 1, 1, 2, 1, 1, 1, 1, 2, 3, 1, 3, 1, 1, 1, 1, 1, 1, 1, 1, 4, 1, 1, 2, 1, 1, 1, 1, 2, 2, 2, 1, 1, 1, 1, 1, 2, 1, 4, 2, 2, 1, 2, 1, 1, 1, 1, 1, 2, 3, 1, 1, 1, 1, 1, 1, 1, 1, 1, 1, 3, 1, 1, 2, 1, 1, 1, 1, 2, 1, 2, 1, 2, 2, 1, 1, 1, 1, 1, 1, 4, 3, 1, 2, 2, 2, 1, 1, 1, 1, 1, 2, 1, 1, 1, 1, 2, 1, 2, 1, 1, 4, 1, 1, 1, 3, 1, 1, 1, 3, 13, 1, 1, 1, 1, 1, 1, 1, 1, 1, 1, 1, 3, 6, 1, 4, 1, 1, 1, 1, 1, 1, 1, 1, 1, 1, 1, 1, 1, 1, 2, 1, 1, 1, 1, 1, 1, 1, 1, 1, 1, 1, 1, 1, 1, 1, 2, 1, 1, 1, 1, 1, 1, 1, 2, 1, 1, 1, 2, 1, 1, 1, 2, 1, 3, 2, 2, 1, 1, 2, 1, 3, 1, 1, 5, 2, 1, 1, 1, 3, 1, 1, 2, 3, 2, 2, 1, 3, 1, 1, 1, 1, 1, 1, 1, 1, 2, 1, 2, 1, 3, 1, 1, 1, 1, 2, 3, 1, 1, 1, 1, 3, 2, 2, 3, 1, 1, 1, 1, 1, 1, 1, 1, 1, 2, 1, 1, 1, 1, 1, 1, 1, 1, 1, 1, 1, 1, 1, 2, 2, 2, 1, 1, 2, 1, 1, 1, 1, 1, 1, 1, 3, 1, 1, 1, 1, 2, 1, 1, 2, 1, 1, 1, 1, 1, 1, 1, 1, 1, 2, 1, 1, 1, 2, 1, 1, 1, 1, 1, 1, 1, 1, 3, 2, 3, 1, 1, 1, 1, 2, 1, 1, 1, 1, 1, 1, 1, 2, 1, 1, 1, 1, 1, 2, 3, 2, 7, 1, 1, 1, 1, 1, 1, 1, 1, 1, 1, 4, 1, 1, 1, 1, 2, 1, 2, 1, 1, 1, 1, 1, 1, 1, 1, 1, 1, 1, 1, 2, 3, 1, 1, 1, 1, 1, 1, 1, 1, 1, 1, 1, 1, 1, 1, 3, 3, 1, 1, 1, 1, 1, 1, 2, 1, 2, 1, 2, 1, 1, 1, 1, 1, 3, 1, 1, 1, 2, 3, 1, 3, 1, 2, 1, 1, 1, 1, 1, 3, 1, 1, 1, 1, 1, 1, 1, 1, 1, 1, 1, 1, 1, 1, 1, 1, 2, 1, 1, 2, 1, 1, 1, 1, 1, 1, 2, 1, 1, 1, 2, 1, 1, 3, 3, 1, 1, 1, 1, 1, 1, 1, 2, 1, 1, 1, 1, 1, 2, 1, 2, 1, 1, 1, 2, 1, 3, 1, 3, 1, 1, 1, 9, 1, 1, 1, 1, 1, 1, 2, 1, 2, 1, 1, 3, 1, 2, 3, 2, 1, 1, 1, 1, 1, 1, 1, 1, 1, 1, 1, 1, 1, 1, 1, 1, 1, 1, 1, 1, 4, 1, 1, 1, 2, 1, 1, 1, 2, 1, 1, 1, 1, 1, 1, 1, 1, 1, 2, 1, 1, 1, 1, 1, 1, 1, 3, 1, 1, 1, 1, 1, 1, 1, 1, 1, 5, 1, 1, 1, 1, 1, 5, 1, 1, 1, 2, 1, 1, 1, 1, 1, 1, 1, 1, 3, 1, 1, 1, 2, 1, 1, 1, 1, 1, 1, 1, 2, 1, 1, 1, 1, 1, 1, 1, 1, 1, 1, 2, 1, 2, 1, 1, 1, 1, 1, 1, 1, 1, 1, 1, 1, 1, 1, 1, 1, 1, 1, 2, 1, 1, 1, 1, 1, 1, 2, 2, 1, 1, 1, 1, 3, 1, 1, 1, 3, 1, 2, 1, 2, 1, 1, 1, 1, 1, 1, 2, 1, 1, 1, 1, 2, 1, 1, 1, 1, 1, 2, 1, 1, 1, 1, 2, 1, 1, 1, 1, 1, 7, 1, 1, 1, 1, 1, 1, 1, 2, 1, 1, 1, 1, 1, 1, 1, 1, 1, 1, 2, 2, 1, 1, 1, 1, 1, 1, 1, 2, 1, 2, 1, 1, 2, 2, 1, 1, 1, 1, 1, 1, 1, 1, 4, 1, 2, 1, 1, 1, 1, 1, 1, 1, 1, 1, 14, 1, 2, 1, 10, 1, 2, 1, 4, 1, 1, 1, 1, 1, 1, 2, 2, 1, 5, 1, 1, 1, 1, 1, 2, 1, 1, 1, 1, 1, 1, 1, 1, 1, 1, 1, 1, 1, 1, 1, 1, 1, 1, 1, 1, 1, 1, 1, 1, 1, 1, 1, 1, 1, 1, 1, 1, 1, 1, 2, 1, 1, 2, 1, 1, 2, 2, 1, 2, 1, 1, 1, 2, 1, 2, 2, 1, 2, 1, 1, 1, 1, 1, 1, 1, 1, 1, 1, 2, 1, 1, 1, 1, 1, 1, 1, 1, 1, 1, 1, 1, 1, 1, 1, 1, 1, 1, 1, 1, 1, 1, 1, 1, 4, 1, 1, 2, 4, 1, 1, 1, 1, 1, 1, 1, 1, 1, 1, 1, 1, 1, 1, 1, 1, 2, 1, 1, 1, 1, 1, 1, 1, 1, 1, 1, 2, 1, 1, 1, 1, 1, 1, 1, 1, 4, 1, 1, 1, 1, 1, 1, 1, 1, 2, 1, 1, 1, 1, 1, 4, 1, 1, 1, 7, 1, 5, 1, 1, 3, 2, 1, 1, 1, 2, 1, 1, 1, 2, 1, 1, 3, 4, 1, 1, 1, 1, 1, 1, 1, 2, 1, 1, 1, 1, 1, 3, 1, 1, 1, 1, 1, 1, 1, 1, 1, 1, 1, 2, 1, 4, 1, 1, 1, 1, 9, 1, 1, 1, 1, 1, 1, 1, 1, 1, 2, 1, 1, 1, 1, 1, 1, 1, 1, 1, 3, 1, 1, 2, 2, 1, 1, 1, 1, 1, 1, 1, 1, 1, 1, 1, 1, 1, 1, 1, 1, 1, 1, 2, 2, 1, 1, 2, 1, 1, 1, 1, 1, 1, 1, 1, 1, 1, 1, 1, 1, 1, 1, 1, 1, 1, 1, 1, 1, 1, 1, 2, 1, 1, 1, 1, 1, 1, 1, 1, 1, 1, 1, 2, 1, 1, 1, 1, 1, 1, 1, 1, 1, 1, 1, 1, 1, 1, 1, 1, 1, 1, 1, 1, 1, 1, 1, 1, 1, 1, 1, 1, 1, 1, 1, 1, 1, 1, 1, 1, 1, 1, 1, 1, 1, 1, 1, 1, 1, 1, 1, 7, 1, 1, 1, 1, 1, 1, 1, 1, 1, 1, 1, 3, 1, 1, 1, 1, 1, 1, 1, 1, 1, 1, 2, 1, 1, 3, 1, 1, 1, 1, 1, 1, 1, 1, 1, 1, 1, 1, 1, 1, 1, 1, 1, 1, 1, 1, 1, 1, 1, 2, 1, 1, 1, 1, 1, 1, 1, 1, 1, 1, 1, 1, 1, 1, 1, 1, 1, 1, 1, 1, 1, 1, 1, 1, 1, 1, 1, 1, 1, 1, 1, 1, 1, 1, 1, 1, 1, 1, 1, 1, 1, 1, 1, 1, 1, 1, 1, 1, 1, 1, 1, 2, 1, 1, 1, 1, 1, 1, 1, 1, 1, 1, 1, 1, 1, 2, 1, 1, 1, 1, 7, 2, 1, 2, 1, 2, 1, 1, 1, 1, 1, 1, 1, 2, 8, 13, 1, 1, 5, 1, 2, 2, 1, 1, 1, 7, 34, 1, 1, 4, 2, 2, 1, 7, 1, 1, 3, 1, 1, 2, 1, 1, 2, 1, 1, 1, 1, 1, 1, 1, 1, 1, 1, 1, 1, 1, 1, 1, 1, 4, 2, 1, 4, 1, 1, 6, 11, 1, 1, 2, 3, 1, 1, 1, 1, 1, 1, 1, 16, 1, 1, 1, 1, 6, 2, 1, 3, 9, 1, 10, 1, 1, 1, 1, 1, 1, 1, 1, 1, 1, 2, 1, 1, 10, 11, 15, 1, 1, 1, 1, 2, 3, 1, 1, 1, 1, 1, 2, 3, 2, 1, 2, 2, 1, 2, 3, 1, 1, 5, 1, 1, 2, 1, 1, 4, 6, 1, 1, 7, 3, 2, 1, 1, 1, 1, 2, 1, 1, 1, 1, 2, 1, 1, 1, 3, 1, 1, 1, 3, 1, 1, 1, 1, 1, 1, 1, 1, 1, 1, 1, 1, 1, 1, 1, 1, 1, 1, 1, 1, 1, 1, 1, 1, 4, 3, 1, 2, 1, 2, 1, 1, 3, 1, 2, 1, 1, 3, 1, 2, 1, 1, 1, 1, 1, 2, 1, 1, 1, 1, 1, 1, 1, 1, 1, 1, 2, 1, 1, 6, 1, 1, 1, 7, 1, 1, 2, 2, 2, 1, 4, 1, 1, 3, 1, 1, 1, 1, 1, 1, 1, 2, 1, 1, 1, 1, 1, 1, 1, 1, 3, 1, 1, 1, 1, 1, 1, 3, 1, 1, 5, 2, 1, 2, 3, 1, 2, 1, 1, 1, 1, 6, 1, 1, 1, 2, 2, 7, 13, 1, 1, 1, 1, 1, 1, 1, 1, 1, 2, 5, 1, 1, 1, 4, 5, 2, 1, 2, 1, 1, 1, 1, 1, 1, 3, 1, 1, 5, 2, 1, 1, 1, 1, 1, 1, 1, 3, 1, 1, 5, 1, 1, 1, 1, 1, 1, 1, 1, 3, 1, 1, 1, 1, 1, 1, 1, 1, 1, 2, 3, 3, 3, 3, 1, 1, 1, 1, 1, 2, 2, 1, 1, 1, 2, 1, 2, 1, 1, 1, 1, 1, 1, 1, 1, 1, 1, 1, 1, 1, 1, 1, 2, 4, 1, 1, 1, 1, 2, 1, 2, 1, 1, 1, 1, 1, 1, 1, 1, 1, 1, 1, 1, 1, 1, 1, 1, 1, 1, 3, 1, 1, 1, 1, 1, 1, 1, 1, 1, 1, 1, 1, 1, 1, 1, 1, 1, 1, 1, 1, 1, 1, 1, 1, 1, 1, 1, 1, 1, 1, 1, 1, 1, 1, 1, 1, 1, 1, 1, 1, 1, 1, 1, 1, 1, 1, 1, 1, 1, 1, 1, 1, 1, 1, 1, 1, 1, 1, 2, 1, 1, 1, 2, 1, 1, 1, 1, 1, 1, 1, 1, 1, 1, 1, 1, 1, 1, 1, 1, 1, 1, 3, 1, 2, 1, 1, 1, 1, 2, 2, 1, 1, 1, 1, 1, 1, 2, 1, 1, 1, 1, 1, 1, 1, 1, 1, 1, 1, 1, 1, 1, 2, 1, 1, 1, 1, 1, 1, 1, 1, 1, 1, 1, 1, 1, 1, 1, 1, 1, 2, 1, 1, 1, 1, 1, 1, 1, 1, 1, 1, 1, 1, 1, 1, 1, 1, 1, 1, 1, 2, 1, 1, 1, 1, 2, 1, 1, 1, 1, 1, 1, 1, 1, 1, 1, 1, 2, 1, 1, 1, 1, 1, 1, 1, 1, 1, 1, 1, 1, 1, 1, 1, 1, 1, 1, 1, 1, 1, 1, 1, 1, 1, 1, 1, 1, 1, 1, 1, 1, 1, 1, 1, 1, 1, 1, 1, 1, 1, 1, 1, 1, 1, 1]))"
      ]
     },
     "execution_count": 8,
     "metadata": {},
     "output_type": "execute_result"
    }
   ],
   "source": [
    "# text = \"This is my test text. We're keeping text short to keep things manageable.\"\n",
    "word_counts = count_words(text)\n",
    "word_stats(word_counts)"
   ]
  },
  {
   "cell_type": "markdown",
   "metadata": {},
   "source": [
    "## Reading multiple files"
   ]
  },
  {
   "cell_type": "code",
   "execution_count": 9,
   "metadata": {},
   "outputs": [
    {
     "data": {
      "text/html": [
       "<div>\n",
       "<style scoped>\n",
       "    .dataframe tbody tr th:only-of-type {\n",
       "        vertical-align: middle;\n",
       "    }\n",
       "\n",
       "    .dataframe tbody tr th {\n",
       "        vertical-align: top;\n",
       "    }\n",
       "\n",
       "    .dataframe thead th {\n",
       "        text-align: right;\n",
       "    }\n",
       "</style>\n",
       "<table border=\"1\" class=\"dataframe\">\n",
       "  <thead>\n",
       "    <tr style=\"text-align: right;\">\n",
       "      <th></th>\n",
       "      <th>Language</th>\n",
       "      <th>Author</th>\n",
       "      <th>Title</th>\n",
       "      <th>Length</th>\n",
       "      <th>Unique_words</th>\n",
       "    </tr>\n",
       "  </thead>\n",
       "  <tbody>\n",
       "    <tr>\n",
       "      <th>1</th>\n",
       "      <td>French</td>\n",
       "      <td>De maupassant</td>\n",
       "      <td>Contes de la Becasse</td>\n",
       "      <td>34723</td>\n",
       "      <td>10210</td>\n",
       "    </tr>\n",
       "    <tr>\n",
       "      <th>2</th>\n",
       "      <td>French</td>\n",
       "      <td>De maupassant</td>\n",
       "      <td>La Main Gauche</td>\n",
       "      <td>33481</td>\n",
       "      <td>9983</td>\n",
       "    </tr>\n",
       "    <tr>\n",
       "      <th>3</th>\n",
       "      <td>French</td>\n",
       "      <td>De maupassant</td>\n",
       "      <td>Œuvres complètes de Guy de Maupassant</td>\n",
       "      <td>54772</td>\n",
       "      <td>15028</td>\n",
       "    </tr>\n",
       "    <tr>\n",
       "      <th>4</th>\n",
       "      <td>French</td>\n",
       "      <td>De maupassant</td>\n",
       "      <td>Claire de Lune</td>\n",
       "      <td>25975</td>\n",
       "      <td>8076</td>\n",
       "    </tr>\n",
       "    <tr>\n",
       "      <th>5</th>\n",
       "      <td>French</td>\n",
       "      <td>De maupassant</td>\n",
       "      <td>Le Horla</td>\n",
       "      <td>41485</td>\n",
       "      <td>11091</td>\n",
       "    </tr>\n",
       "    <tr>\n",
       "      <th>...</th>\n",
       "      <td>...</td>\n",
       "      <td>...</td>\n",
       "      <td>...</td>\n",
       "      <td>...</td>\n",
       "      <td>...</td>\n",
       "    </tr>\n",
       "    <tr>\n",
       "      <th>98</th>\n",
       "      <td>German</td>\n",
       "      <td>Schiller</td>\n",
       "      <td>Die Piccolomini</td>\n",
       "      <td>35456</td>\n",
       "      <td>6763</td>\n",
       "    </tr>\n",
       "    <tr>\n",
       "      <th>99</th>\n",
       "      <td>German</td>\n",
       "      <td>Schiller</td>\n",
       "      <td>Der Neffe als Onkel</td>\n",
       "      <td>14349</td>\n",
       "      <td>4416</td>\n",
       "    </tr>\n",
       "    <tr>\n",
       "      <th>100</th>\n",
       "      <td>German</td>\n",
       "      <td>Schiller</td>\n",
       "      <td>Wallensteins Lager</td>\n",
       "      <td>15443</td>\n",
       "      <td>4379</td>\n",
       "    </tr>\n",
       "    <tr>\n",
       "      <th>101</th>\n",
       "      <td>German</td>\n",
       "      <td>Schiller</td>\n",
       "      <td>Die Jungfrau von Orleans</td>\n",
       "      <td>24181</td>\n",
       "      <td>8806</td>\n",
       "    </tr>\n",
       "    <tr>\n",
       "      <th>102</th>\n",
       "      <td>German</td>\n",
       "      <td>Schiller</td>\n",
       "      <td>Turandot, Prinzessin von China</td>\n",
       "      <td>21441</td>\n",
       "      <td>7550</td>\n",
       "    </tr>\n",
       "  </tbody>\n",
       "</table>\n",
       "<p>102 rows × 5 columns</p>\n",
       "</div>"
      ],
      "text/plain": [
       "    Language         Author                                   Title Length  \\\n",
       "1     French  De maupassant                    Contes de la Becasse  34723   \n",
       "2     French  De maupassant                          La Main Gauche  33481   \n",
       "3     French  De maupassant  Œuvres complètes de Guy de Maupassant  54772   \n",
       "4     French  De maupassant                          Claire de Lune  25975   \n",
       "5     French  De maupassant                                Le Horla  41485   \n",
       "..       ...            ...                                     ...    ...   \n",
       "98    German       Schiller                         Die Piccolomini  35456   \n",
       "99    German       Schiller                     Der Neffe als Onkel  14349   \n",
       "100   German       Schiller                      Wallensteins Lager  15443   \n",
       "101   German       Schiller                Die Jungfrau von Orleans  24181   \n",
       "102   German       Schiller          Turandot, Prinzessin von China  21441   \n",
       "\n",
       "    Unique_words  \n",
       "1          10210  \n",
       "2           9983  \n",
       "3          15028  \n",
       "4           8076  \n",
       "5          11091  \n",
       "..           ...  \n",
       "98          6763  \n",
       "99          4416  \n",
       "100         4379  \n",
       "101         8806  \n",
       "102         7550  \n",
       "\n",
       "[102 rows x 5 columns]"
      ]
     },
     "execution_count": 9,
     "metadata": {},
     "output_type": "execute_result"
    }
   ],
   "source": [
    "import os\n",
    "import pandas as pd\n",
    "\n",
    "book_dir = './books'\n",
    "stats = pd.DataFrame(columns = (\"Language\", \"Author\", \"Title\", \"Length\", \"Unique_words\"))\n",
    "title_num = 1\n",
    "\n",
    "\n",
    "for language in os.listdir(book_dir):\n",
    "    for author in os.listdir(book_dir + \"/\" + language ):\n",
    "        for title in os.listdir(book_dir + \"/\" + language + \"/\" + author):\n",
    "            inputfile = book_dir + \"/\" + language + \"/\" + author + \"/\" + title\n",
    "            #print(inputfile)\n",
    "            text = read_book(inputfile)\n",
    "            (num_unique , counts) = word_stats(count_words(text))\n",
    "            stats.loc[title_num] = language,author.capitalize(), title.replace(\".txt\",\"\"), sum(counts), num_unique\n",
    "            title_num += 1\n",
    "stats"
   ]
  },
  {
   "cell_type": "code",
   "execution_count": 41,
   "metadata": {},
   "outputs": [
    {
     "data": {
      "text/plain": [
       "Text(0, 0.5, 'Number of unique words')"
      ]
     },
     "execution_count": 41,
     "metadata": {},
     "output_type": "execute_result"
    },
    {
     "data": {
      "image/png": "[encoded data removed]",
      "text/plain": [
       "<Figure size 504x504 with 1 Axes>"
      ]
     },
     "metadata": {
      "needs_background": "light"
     },
     "output_type": "display_data"
    }
   ],
   "source": [
    "# No funciona length ni unique\n",
    "# Cuando llamaba stats.length y stats.unique se refería a llamar a las columnas! que monse xd\n",
    "plt.figure(figsize=(7,7))\n",
    "subset = stats[stats.Language ==\"English\"]\n",
    "plt.loglog(subset.Length, subset.Unique_words, \"o\", label = \"English\", color = \"crimson\")\n",
    "subset = stats[stats.Language ==\"French\"]\n",
    "plt.loglog(subset.Length, subset.Unique_words, \"o\", label = \"French\", color = \"forestgreen\")\n",
    "subset = stats[stats.Language ==\"German\"]\n",
    "plt.loglog(subset.Length, subset.Unique_words, \"o\", label = \"German\", color = \"orange\")\n",
    "subset = stats[stats.Language ==\"Portuguese\"]\n",
    "plt.loglog(subset.Length, subset.Unique_words, \"o\", label = \"Portuguese\", color = \"blueviolet\")\n",
    "plt.legend()\n",
    "plt.title(\"Cantidad de plabaras de un libro \\n vs cantidad de palabras únicas\", fontsize=20)\n",
    "plt.xlabel(\"Number of words\", fontsize=14)\n",
    "plt.ylabel(\"Number of unique words\", fontsize=14)"
   ]
  }
 ],
 "metadata": {
  "interpreter": {
   "hash": "7ce9cdae14fce8d3bdbe53314adcb46b08f2e6af86fc7cd8dfcae7b323f8b65a"
  },
  "kernelspec": {
   "display_name": "Python 3.9.7 64-bit ('base': conda)",
   "language": "python",
   "name": "python3"
  },
  "language_info": {
   "codemirror_mode": {
    "name": "ipython",
    "version": 3
   },
   "file_extension": ".py",
   "mimetype": "text/x-python",
   "name": "python",
   "nbconvert_exporter": "python",
   "pygments_lexer": "ipython3",
   "version": "3.9.7"
  },
  "orig_nbformat": 4
 },
 "nbformat": 4,
 "nbformat_minor": 2
}
