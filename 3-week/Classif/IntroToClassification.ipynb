{
 "cells": [
  {
   "cell_type": "code",
   "execution_count": 8,
   "metadata": {},
   "outputs": [],
   "source": [
    "import random\n",
    "import scipy.stats as ss\n",
    "import numpy as np\n",
    "import matplotlib.pyplot as plt"
   ]
  },
  {
   "cell_type": "markdown",
   "metadata": {},
   "source": [
    "## Finding Distance Between Two Points"
   ]
  },
  {
   "cell_type": "code",
   "execution_count": 19,
   "metadata": {},
   "outputs": [],
   "source": [
    "def distance(p1,p2):\n",
    "    return np.sqrt(np.sum(np.power(p2 - p1, 2)))"
   ]
  },
  {
   "cell_type": "markdown",
   "metadata": {},
   "source": [
    "## Majority Vote"
   ]
  },
  {
   "cell_type": "code",
   "execution_count": 2,
   "metadata": {},
   "outputs": [],
   "source": [
    "def majority_vote(votes):\n",
    "    '''\n",
    "    returns a dictionary with the etiquetes and the values assigned for each of them\n",
    "    '''\n",
    "    vote_counts = {}\n",
    "    for vote in votes:\n",
    "        if vote in vote_counts:\n",
    "            vote_counts[vote] += 1\n",
    "        else:\n",
    "            vote_counts[vote] = 1\n",
    "    return vote_counts\n",
    "\n",
    "votes = [1,2,3,1,2,2,2,3,3,1,1,2,3,3,3,2,2,2]\n",
    "vote_counts = majority_vote(votes)\n",
    "max_count = max(vote_counts.values())"
   ]
  },
  {
   "cell_type": "code",
   "execution_count": 3,
   "metadata": {},
   "outputs": [
    {
     "name": "stdout",
     "output_type": "stream",
     "text": [
      "2\n"
     ]
    }
   ],
   "source": [
    "winner = []\n",
    "for vote, count in vote_counts.items():\n",
    "    if count == max_count:\n",
    "        winner.append(vote)\n",
    "       \n",
    "print(random.choice(winner))\n",
    "\n",
    " "
   ]
  },
  {
   "cell_type": "markdown",
   "metadata": {},
   "source": [
    "So far the function defined in the first cell returns a dict with the values assigned to the _candidates_. And in the second cell we see how to choose the winner given that dictionary.\n",
    "Now lets simply join those snippets to create a whole function... like exodia.. well not that much."
   ]
  },
  {
   "cell_type": "code",
   "execution_count": 4,
   "metadata": {},
   "outputs": [
    {
     "data": {
      "text/plain": [
       "3"
      ]
     },
     "execution_count": 4,
     "metadata": {},
     "output_type": "execute_result"
    }
   ],
   "source": [
    "def majority_vote(votes):\n",
    "    '''\n",
    "    returns the winner given a dictionary with votes. \n",
    "    If tie, a random choice ensures to return only one winner.\n",
    "    '''\n",
    "    vote_counts = {}\n",
    "    for vote in votes:\n",
    "        if vote in vote_counts:\n",
    "            vote_counts[vote] += 1\n",
    "        else:\n",
    "            vote_counts[vote] = 1\n",
    "    max_count = max(vote_counts.values())\n",
    "    winner = []\n",
    "    for vote, count in vote_counts.items():\n",
    "        if count == max_count:\n",
    "            winner.append(vote)\n",
    "\n",
    "    return random.choice(winner)\n",
    "\n",
    "votes = [1,2,3,1,2,2,2,3,3,1,1,2,3,3,3,2,2,2,3,3]\n",
    "majority_vote(votes)\n"
   ]
  },
  {
   "cell_type": "markdown",
   "metadata": {},
   "source": [
    "## Mode of a numpy array\n",
    "The video shows how to google for a question which is so important for us coders.\n",
    "\n",
    "<b>_scipy.stats as ss_</b> have already been defined in the first cell"
   ]
  },
  {
   "cell_type": "code",
   "execution_count": 5,
   "metadata": {},
   "outputs": [
    {
     "data": {
      "text/plain": [
       "array([2.])"
      ]
     },
     "execution_count": 5,
     "metadata": {},
     "output_type": "execute_result"
    }
   ],
   "source": [
    "def majority_vote_short(vote):\n",
    "    '''returns the most common element in votes'''\n",
    "    mode , count = ss.mstats.mode(vote)\n",
    "    return mode\n",
    "\n",
    "majority_vote_short(votes)"
   ]
  },
  {
   "cell_type": "markdown",
   "metadata": {},
   "source": [
    "At the end of the video professor Onela says that if there are more than one common element, _ss.stats.mode_ will return the number 2. Find out why here: https://docs.scipy.org/doc/scipy/reference/generated/scipy.stats.mode.html"
   ]
  },
  {
   "cell_type": "markdown",
   "metadata": {},
   "source": [
    "## Finding nearest neighbors\n",
    "The pseudocode is:\n",
    "\n",
    "   ```python\n",
    "   # loop over all opints\n",
    "      # compute the distance between point p and every other point\n",
    "   # sort distances and return those k points that are nearest to point p\n",
    "   ```"
   ]
  },
  {
   "cell_type": "code",
   "execution_count": 18,
   "metadata": {},
   "outputs": [
    {
     "data": {
      "text/plain": [
       "(0.5, 3.5, 0.5, 3.5)"
      ]
     },
     "execution_count": 18,
     "metadata": {},
     "output_type": "execute_result"
    },
    {
     "data": {
      "image/png": "[encoded data removed]",
      "text/plain": [
       "<Figure size 432x288 with 1 Axes>"
      ]
     },
     "metadata": {
      "needs_background": "light"
     },
     "output_type": "display_data"
    }
   ],
   "source": [
    "points = np.array([[1,1],[1,2],[1,3],[2,1],[2,2],[2,3],[3,1],[3,2],[3,3]])\n",
    "p = np.array([2.5, 2])\n",
    "\n",
    "\n",
    "plt.plot(points[:,0],points[:,1],\"bo\")\n",
    "plt.plot(p[0], p[1],'ro')\n",
    "plt.axis([0.5, 3.5 , 0.5, 3.5])\n"
   ]
  },
  {
   "cell_type": "code",
   "execution_count": 23,
   "metadata": {},
   "outputs": [
    {
     "data": {
      "text/plain": [
       "array([4, 7, 3, 5, 6, 8, 1, 0, 2])"
      ]
     },
     "execution_count": 23,
     "metadata": {},
     "output_type": "execute_result"
    }
   ],
   "source": [
    "'''\n",
    "distances = np.zeros(points.shape[0])\n",
    "\n",
    "for i in range(len(points)):\n",
    "    distances[i] = distance(p,points[i])\n",
    "\n",
    "# np.argsort gives an array with a position of sorted values\n",
    "# (from nearest to farthest). We'll sotre it in variable ind (indexes)\n",
    "\n",
    "ind = np.argsort(distances)\n",
    "ind'''"
   ]
  },
  {
   "cell_type": "code",
   "execution_count": 25,
   "metadata": {},
   "outputs": [
    {
     "name": "stdout",
     "output_type": "stream",
     "text": [
      "[[2 2]\n",
      " [3 2]\n",
      " [2 1]\n",
      " [2 3]\n",
      " [3 1]]\n"
     ]
    }
   ],
   "source": [
    "# now all in a function\n",
    "def find_nearest_neighbors(p,points, k=5):\n",
    "    '''Find k nearest neighbors of a point and returns its indexes'''\n",
    "    distances = np.zeros(points.shape[0])\n",
    "\n",
    "    for i in range(len(points)):\n",
    "        distances[i] = distance(p,points[i])\n",
    "\n",
    "    ind = np.argsort(distances)\n",
    "    return ind[:k]\n",
    "\n",
    "ind = find_nearest_neighbors(p,points) # didn't defined k in purpose to show that: if not\n",
    "                                 # defined, asign value of 5\n",
    "print(points[ind])"
   ]
  },
  {
   "cell_type": "markdown",
   "metadata": {},
   "source": [
    "## Classify / predicting the class of a new point\n",
    "\n",
    "pseudocode: \n",
    "\n",
    "```python\n",
    "# Find k nearest neighbors\n",
    "# predict the class of p based on majority vote\n",
    "```"
   ]
  },
  {
   "cell_type": "code",
   "execution_count": 46,
   "metadata": {},
   "outputs": [
    {
     "data": {
      "text/plain": [
       "0"
      ]
     },
     "execution_count": 46,
     "metadata": {},
     "output_type": "execute_result"
    }
   ],
   "source": [
    "def knn_predict(p,points, outcomes, k = 5):\n",
    "    ind = find_nearest_neighbors(p, points, k)\n",
    "    return majority_vote(outcomes[ind])\n",
    "\n",
    "outcomes = np.array([0,0,0,0,1,1,1,1,1])\n",
    "#len(outcomes)\n",
    "new_p = np.array([1.5,1.7])\n",
    "knn_predict(new_p, points, outcomes, k=2)"
   ]
  },
  {
   "cell_type": "code",
   "execution_count": 47,
   "metadata": {},
   "outputs": [
    {
     "name": "stderr",
     "output_type": "stream",
     "text": [
      "/tmp/ipykernel_376/1718456288.py:14: UserWarning: You have used the `textcoords` kwarg, but not the `xytext` kwarg.  This can lead to surprising results.\n",
      "  ax.annotate(txt, (points[:,0][i],points[:,1][i]), textcoords = 'offset points')\n"
     ]
    },
    {
     "data": {
      "image/png": "[encoded data removed]",
      "text/plain": [
       "<Figure size 432x288 with 1 Axes>"
      ]
     },
     "metadata": {
      "needs_background": "light"
     },
     "output_type": "display_data"
    }
   ],
   "source": [
    "# lets see it graphically\n",
    "colors = []\n",
    "for i in range(len(outcomes)):\n",
    "    if outcomes[i] == 1:\n",
    "        colors.append('b')\n",
    "    else:\n",
    "        colors.append('r')\n",
    "\n",
    "fig, ax = plt.subplots()\n",
    "ax.scatter(points[:,0],points[:,1],c = colors)\n",
    "ax.scatter(new_p[0],new_p[1],)\n",
    "plt.axis([0.5, 3.5 , 0.5, 3.5])\n",
    "for i, txt in enumerate(outcomes):\n",
    "    ax.annotate(txt, (points[:,0][i],points[:,1][i]), textcoords = 'offset points')"
   ]
  },
  {
   "cell_type": "markdown",
   "metadata": {},
   "source": [
    "## Generating Sytethic Data"
   ]
  },
  {
   "cell_type": "code",
   "execution_count": 52,
   "metadata": {},
   "outputs": [
    {
     "data": {
      "text/plain": [
       "array([0, 0, 0, 0, 0, 1, 1, 1, 1, 1])"
      ]
     },
     "execution_count": 52,
     "metadata": {},
     "output_type": "execute_result"
    }
   ],
   "source": [
    "n = 5\n",
    "points = np.concatenate((ss.norm(0,1).rvs((n,2)), ss.norm(0,1).rvs((n,2))), axis=0)\n",
    "outcomes = np.concatenate((np.repeat(0, n), np.repeat(1, n)))\n",
    "outcomes"
   ]
  },
  {
   "cell_type": "code",
   "execution_count": 56,
   "metadata": {},
   "outputs": [
    {
     "data": {
      "image/png": "[encoded data removed]",
      "text/plain": [
       "<Figure size 432x288 with 1 Axes>"
      ]
     },
     "metadata": {
      "needs_background": "light"
     },
     "output_type": "display_data"
    }
   ],
   "source": [
    "plt.plot(points[:n,0], points[:n,1], 'bo')\n",
    "plt.plot(points[n:,0], points[n:,1], 'mo')\n",
    "plt.savefig(\"bivardata.pdf\")"
   ]
  }
 ],
 "metadata": {
  "interpreter": {
   "hash": "7ce9cdae14fce8d3bdbe53314adcb46b08f2e6af86fc7cd8dfcae7b323f8b65a"
  },
  "kernelspec": {
   "display_name": "Python 3.9.7 ('base')",
   "language": "python",
   "name": "python3"
  },
  "language_info": {
   "codemirror_mode": {
    "name": "ipython",
    "version": 3
   },
   "file_extension": ".py",
   "mimetype": "text/x-python",
   "name": "python",
   "nbconvert_exporter": "python",
   "pygments_lexer": "ipython3",
   "version": "3.9.7"
  },
  "orig_nbformat": 4
 },
 "nbformat": 4,
 "nbformat_minor": 2
}
