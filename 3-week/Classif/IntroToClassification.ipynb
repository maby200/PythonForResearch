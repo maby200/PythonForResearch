{
 "cells": [
  {
   "cell_type": "code",
   "execution_count": 1,
   "metadata": {},
   "outputs": [],
   "source": [
    "import random\n",
    "import scipy.stats as ss\n",
    "import numpy as np\n",
    "import matplotlib.pyplot as plt"
   ]
  },
  {
   "cell_type": "markdown",
   "metadata": {},
   "source": [
    "## Finding Distance Between Two Points"
   ]
  },
  {
   "cell_type": "code",
   "execution_count": 2,
   "metadata": {},
   "outputs": [],
   "source": [
    "def distance(p1,p2):\n",
    "    return np.sqrt(np.sum(np.power(p2 - p1, 2)))"
   ]
  },
  {
   "cell_type": "markdown",
   "metadata": {},
   "source": [
    "## Majority Vote"
   ]
  },
  {
   "cell_type": "code",
   "execution_count": 3,
   "metadata": {},
   "outputs": [],
   "source": [
    "def majority_vote(votes):\n",
    "    '''\n",
    "    returns a dictionary with the etiquetes and the values assigned for each of them\n",
    "    '''\n",
    "    vote_counts = {}\n",
    "    for vote in votes:\n",
    "        if vote in vote_counts:\n",
    "            vote_counts[vote] += 1\n",
    "        else:\n",
    "            vote_counts[vote] = 1\n",
    "    return vote_counts\n",
    "\n",
    "votes = [1,2,3,1,2,2,2,3,3,1,1,2,3,3,3,2,2,2]\n",
    "vote_counts = majority_vote(votes)\n",
    "max_count = max(vote_counts.values())"
   ]
  },
  {
   "cell_type": "code",
   "execution_count": 4,
   "metadata": {},
   "outputs": [
    {
     "name": "stdout",
     "output_type": "stream",
     "text": [
      "2\n"
     ]
    }
   ],
   "source": [
    "winner = []\n",
    "for vote, count in vote_counts.items():\n",
    "    if count == max_count:\n",
    "        winner.append(vote)\n",
    "       \n",
    "print(random.choice(winner))\n",
    "\n",
    " "
   ]
  },
  {
   "cell_type": "markdown",
   "metadata": {},
   "source": [
    "So far the function defined in the first cell returns a dict with the values assigned to the _candidates_. And in the second cell we see how to choose the winner given that dictionary.\n",
    "Now lets simply join those snippets to create a whole function... like exodia.. well not that much."
   ]
  },
  {
   "cell_type": "code",
   "execution_count": 5,
   "metadata": {},
   "outputs": [
    {
     "data": {
      "text/plain": [
       "2"
      ]
     },
     "execution_count": 5,
     "metadata": {},
     "output_type": "execute_result"
    }
   ],
   "source": [
    "def majority_vote(votes):\n",
    "    '''\n",
    "    returns the winner given a dictionary with votes. \n",
    "    If tie, a random choice ensures to return only one winner.\n",
    "    '''\n",
    "    vote_counts = {}\n",
    "    for vote in votes:\n",
    "        if vote in vote_counts:\n",
    "            vote_counts[vote] += 1\n",
    "        else:\n",
    "            vote_counts[vote] = 1\n",
    "    max_count = max(vote_counts.values())\n",
    "    winner = []\n",
    "    for vote, count in vote_counts.items():\n",
    "        if count == max_count:\n",
    "            winner.append(vote)\n",
    "\n",
    "    return random.choice(winner)\n",
    "\n",
    "votes = [1,2,3,1,2,2,2,3,3,1,1,2,3,3,3,2,2,2,3,3]\n",
    "majority_vote(votes)\n"
   ]
  },
  {
   "cell_type": "code",
   "execution_count": 6,
   "metadata": {},
   "outputs": [
    {
     "data": {
      "text/plain": [
       "\" \\nskip this part, i'm just playing arround how to access numpy arrays with other np arrays\\n\\nd = np.array([1,2,3,1,2,2,2,3,3,1,1,2,3,3,3,2,2,2,3,3])\\nb = np.ndarray((2,), buffer=np.array([1,2,5]), offset=np.int_().itemsize, dtype=int)\\nb = np.array([ 2 , 5])\\nb = [2, 5]\\nprint(b)\\nd[b]\\n\""
      ]
     },
     "execution_count": 6,
     "metadata": {},
     "output_type": "execute_result"
    }
   ],
   "source": [
    "''' \n",
    "skip this part, i'm just playing arround how to access numpy arrays with other np arrays\n",
    "\n",
    "d = np.array([1,2,3,1,2,2,2,3,3,1,1,2,3,3,3,2,2,2,3,3])\n",
    "b = np.ndarray((2,), buffer=np.array([1,2,5]), offset=np.int_().itemsize, dtype=int)\n",
    "b = np.array([ 2 , 5])\n",
    "b = [2, 5]\n",
    "print(b)\n",
    "d[b]\n",
    "'''"
   ]
  },
  {
   "cell_type": "markdown",
   "metadata": {},
   "source": [
    "## Mode of a numpy array\n",
    "The video shows how to google for a question which is so important for us coders.\n",
    "\n",
    "<b>_scipy.stats as ss_</b> have already been defined in the first cell"
   ]
  },
  {
   "cell_type": "code",
   "execution_count": 7,
   "metadata": {},
   "outputs": [
    {
     "data": {
      "text/plain": [
       "array([2.])"
      ]
     },
     "execution_count": 7,
     "metadata": {},
     "output_type": "execute_result"
    }
   ],
   "source": [
    "def majority_vote_short(vote):\n",
    "    '''returns the most common element in votes'''\n",
    "    mode , count = ss.mstats.mode(vote)\n",
    "    return mode\n",
    "\n",
    "majority_vote_short(votes)"
   ]
  },
  {
   "cell_type": "markdown",
   "metadata": {},
   "source": [
    "At the end of the video professor Onela says that if there are more than one common element, _ss.stats.mode_ will return the number 2. Find out why here: https://docs.scipy.org/doc/scipy/reference/generated/scipy.stats.mode.html"
   ]
  },
  {
   "cell_type": "markdown",
   "metadata": {},
   "source": [
    "## Finding nearest neighbors\n",
    "The pseudocode is:\n",
    "\n",
    "   ```python\n",
    "   # loop over all opints\n",
    "      # compute the distance between point p and every other point\n",
    "   # sort distances and return those k points that are nearest to point p\n",
    "   ```"
   ]
  },
  {
   "cell_type": "code",
   "execution_count": 8,
   "metadata": {},
   "outputs": [
    {
     "data": {
      "text/plain": [
       "(0.5, 3.5, 0.5, 3.5)"
      ]
     },
     "execution_count": 8,
     "metadata": {},
     "output_type": "execute_result"
    },
    {
     "data": {
      "image/png": "[encoded data removed]",
      "text/plain": [
       "<Figure size 432x288 with 1 Axes>"
      ]
     },
     "metadata": {
      "needs_background": "light"
     },
     "output_type": "display_data"
    }
   ],
   "source": [
    "points = np.array([[1,1],[1,2],[1,3],[2,1],[2,2],[2,3],[3,1],[3,2],[3,3]])\n",
    "p = np.array([2.5, 2])\n",
    "\n",
    "\n",
    "plt.plot(points[:,0],points[:,1],\"bo\")\n",
    "plt.plot(p[0], p[1],'ro')\n",
    "plt.axis([0.5, 3.5 , 0.5, 3.5])\n"
   ]
  },
  {
   "cell_type": "code",
   "execution_count": 9,
   "metadata": {},
   "outputs": [
    {
     "data": {
      "text/plain": [
       "\"\\ndistances = np.zeros(points.shape[0])\\n\\nfor i in range(len(points)):\\n    distances[i] = distance(p,points[i])\\n\\n# np.argsort gives an array with a position of sorted values\\n# (from nearest to farthest). We'll sotre it in variable ind (indexes)\\n\\nind = np.argsort(distances)\\nind\""
      ]
     },
     "execution_count": 9,
     "metadata": {},
     "output_type": "execute_result"
    }
   ],
   "source": [
    "'''\n",
    "distances = np.zeros(points.shape[0])\n",
    "\n",
    "for i in range(len(points)):\n",
    "    distances[i] = distance(p,points[i])\n",
    "\n",
    "# np.argsort gives an array with a position of sorted values\n",
    "# (from nearest to farthest). We'll sotre it in variable ind (indexes)\n",
    "\n",
    "ind = np.argsort(distances)\n",
    "ind'''"
   ]
  },
  {
   "cell_type": "code",
   "execution_count": 10,
   "metadata": {},
   "outputs": [
    {
     "name": "stdout",
     "output_type": "stream",
     "text": [
      "[[2 2]\n",
      " [3 2]\n",
      " [2 1]\n",
      " [2 3]\n",
      " [3 1]]\n"
     ]
    }
   ],
   "source": [
    "# now all in a function\n",
    "def find_nearest_neighbors(p,points, k=5):\n",
    "    '''Find k nearest neighbors of a point and returns its indexes'''\n",
    "    distances = np.zeros(points.shape[0])\n",
    "\n",
    "    for i in range(len(points)):\n",
    "        distances[i] = distance(p,points[i])\n",
    "\n",
    "    ind = np.argsort(distances)\n",
    "    return ind[:k]\n",
    "\n",
    "ind = find_nearest_neighbors(p,points) # didn't defined k in purpose to show that: if not\n",
    "                                 # defined, asign value of 5\n",
    "print(points[ind])"
   ]
  },
  {
   "cell_type": "markdown",
   "metadata": {},
   "source": [
    "## Classify / predicting the class of a new point\n",
    "\n",
    "pseudocode: \n",
    "\n",
    "```python\n",
    "# Find k nearest neighbors\n",
    "# predict the class of p based on majority vote\n",
    "```"
   ]
  },
  {
   "cell_type": "code",
   "execution_count": 11,
   "metadata": {},
   "outputs": [
    {
     "data": {
      "text/plain": [
       "1"
      ]
     },
     "execution_count": 11,
     "metadata": {},
     "output_type": "execute_result"
    }
   ],
   "source": [
    "def knn_predict(p,points, outcomes, k = 5):\n",
    "    ind = find_nearest_neighbors(p, points, k)\n",
    "    #print(f'los puntos son: {type(ind)} y devuelve : {ind}')\n",
    "    return majority_vote(outcomes[ind])\n",
    "\n",
    "outcomes = np.array([0,0,0,0,1,1,1,1,1])\n",
    "#len(outcomes)\n",
    "new_p = np.array([1.5,2.7])\n",
    "knn_predict(new_p, points, outcomes, k=2)"
   ]
  },
  {
   "cell_type": "code",
   "execution_count": 12,
   "metadata": {},
   "outputs": [
    {
     "name": "stderr",
     "output_type": "stream",
     "text": [
      "/tmp/ipykernel_1485/1718456288.py:14: UserWarning: You have used the `textcoords` kwarg, but not the `xytext` kwarg.  This can lead to surprising results.\n",
      "  ax.annotate(txt, (points[:,0][i],points[:,1][i]), textcoords = 'offset points')\n"
     ]
    },
    {
     "data": {
      "image/png": "[encoded data removed]",
      "text/plain": [
       "<Figure size 432x288 with 1 Axes>"
      ]
     },
     "metadata": {
      "needs_background": "light"
     },
     "output_type": "display_data"
    }
   ],
   "source": [
    "# lets see it graphically\n",
    "colors = []\n",
    "for i in range(len(outcomes)):\n",
    "    if outcomes[i] == 1:\n",
    "        colors.append('b')\n",
    "    else:\n",
    "        colors.append('r')\n",
    "\n",
    "fig, ax = plt.subplots()\n",
    "ax.scatter(points[:,0],points[:,1],c = colors)\n",
    "ax.scatter(new_p[0],new_p[1],)\n",
    "plt.axis([0.5, 3.5 , 0.5, 3.5])\n",
    "for i, txt in enumerate(outcomes):\n",
    "    ax.annotate(txt, (points[:,0][i],points[:,1][i]), textcoords = 'offset points')"
   ]
  },
  {
   "cell_type": "markdown",
   "metadata": {},
   "source": [
    "When the code is executed :\n",
    "\n",
    "```python\n",
    "outcomes = np.array([0,0,0,0,1,1,1,1,1])\n",
    "new_p = np.array([1.5,2.7])\n",
    "knn_predict(new_p, points, outcomes, k=2)\n",
    "\n",
    "```\n",
    "The predicted outcome for the new point vary since k =2, which means we are going to choose the two nearest points. In the graph is clearly seen that &nbsp;``new_p``&nbsp;  has the same (and shortest) distance with the 2nd and the 5th point. Due to that, those points are selected to enter as indexes for the function &nbsp;`majority_vote()`&nbsp; which ends up chosing randomly if the value is 0 or 1. "
   ]
  },
  {
   "cell_type": "markdown",
   "metadata": {},
   "source": [
    "## Generating Sytethic Data"
   ]
  },
  {
   "cell_type": "markdown",
   "metadata": {},
   "source": [
    "To see help about what the **** <b>rvs</b> means you can type  &nbsp;`help(ss.norm.rvs)`&nbsp; but make sure you have done: &nbsp;`import numpy as ss `&nbsp;"
   ]
  },
  {
   "cell_type": "code",
   "execution_count": 70,
   "metadata": {},
   "outputs": [
    {
     "name": "stdout",
     "output_type": "stream",
     "text": [
      "<built-in method __dir__ of method object at 0x7f4fc6631a40>\n"
     ]
    }
   ],
   "source": [
    "print(ss.norm.rvs)"
   ]
  },
  {
   "cell_type": "code",
   "execution_count": 79,
   "metadata": {},
   "outputs": [
    {
     "data": {
      "text/plain": [
       "array([0, 0, 0, 0, 0, 0, 0, 0, 0, 0, 0, 0, 0, 0, 0, 0, 0, 0, 0, 0, 1, 1,\n",
       "       1, 1, 1, 1, 1, 1, 1, 1, 1, 1, 1, 1, 1, 1, 1, 1, 1, 1])"
      ]
     },
     "execution_count": 79,
     "metadata": {},
     "output_type": "execute_result"
    }
   ],
   "source": [
    "\"\"\"n = 20\n",
    "points = np.concatenate((ss.norm(0,1).rvs((n,2)), ss.norm(0,1).rvs((n,2))), axis=0)\n",
    "outcomes = np.concatenate((np.repeat(0, n), np.repeat(1, n)))\n",
    "outcomes\"\"\""
   ]
  },
  {
   "cell_type": "code",
   "execution_count": 13,
   "metadata": {},
   "outputs": [],
   "source": [
    "def generate_synth_data(n=50):\n",
    "    points = np.concatenate((ss.norm(0,1).rvs((n,2)), ss.norm(0,1).rvs((n,2))), axis=0)\n",
    "    outcomes = np.concatenate((np.repeat(0, n), np.repeat(1, n)))\n",
    "    return (points, outcomes)   "
   ]
  },
  {
   "cell_type": "code",
   "execution_count": 16,
   "metadata": {},
   "outputs": [
    {
     "data": {
      "text/plain": [
       "[<matplotlib.lines.Line2D at 0x7fd8e9414cd0>]"
      ]
     },
     "execution_count": 16,
     "metadata": {},
     "output_type": "execute_result"
    },
    {
     "data": {
      "image/png": "[encoded data removed]",
      "text/plain": [
       "<Figure size 432x288 with 1 Axes>"
      ]
     },
     "metadata": {
      "needs_background": "light"
     },
     "output_type": "display_data"
    }
   ],
   "source": [
    "n = 20\n",
    "(points, outcomes) = generate_synth_data(n)\n",
    "# plt.fig()\n",
    "plt.plot(points[:n,0], points[:n,1], 'bo')\n",
    "plt.plot(points[n:,0], points[n:,1], 'mo')\n",
    "#plt.savefig(\"bivardata.pdf\")"
   ]
  },
  {
   "cell_type": "markdown",
   "metadata": {},
   "source": [
    "## Making a prediction grid"
   ]
  },
  {
   "cell_type": "code",
   "execution_count": 17,
   "metadata": {},
   "outputs": [],
   "source": [
    "def make_prediction_grid(predictors, outcomes, limits, h, k):\n",
    "    \"\"\"Clsasify each point on the prediction grid.\"\"\"\n",
    "    (x_min, x_max, y_min, y_max) = limits\n",
    "    xs = np.arange(x_min, x_max, h)\n",
    "    ys = np.arange(y_min, y_max, h)\n",
    "    xx, yy = np.meshgrid(xs, ys)\n",
    "\n",
    "    prediction_grid = np.zeros(xx.shape, dtype= int)\n",
    "    for i, x in enumerate(xs):\n",
    "        for j, y in enumerate(ys):\n",
    "            p = np.array([x,y])\n",
    "            prediction_grid[j,i] = knn_predict(p,predictors, outcomes, k)\n",
    "\n",
    "    return (xx, yy, prediction_grid)"
   ]
  },
  {
   "cell_type": "markdown",
   "metadata": {},
   "source": [
    "Code given in the video:"
   ]
  },
  {
   "cell_type": "code",
   "execution_count": 18,
   "metadata": {},
   "outputs": [],
   "source": [
    "def plot_prediction_grid (xx, yy, prediction_grid, filename):\n",
    "    \"\"\" Plot KNN predictions for every point on the grid.\"\"\"\n",
    "    from matplotlib.colors import ListedColormap\n",
    "    background_colormap = ListedColormap ([\"hotpink\",\"lightskyblue\", \"yellowgreen\"])\n",
    "    observation_colormap = ListedColormap ([\"red\",\"blue\",\"green\"])\n",
    "    plt.figure(figsize =(10,10))\n",
    "    plt.pcolormesh(xx, yy, prediction_grid, cmap = background_colormap, alpha = 0.5)\n",
    "    plt.scatter(predictors[:,0], predictors [:,1], c = outcomes, cmap = observation_colormap, s = 50)\n",
    "    plt.xlabel('Variable 1'); plt.ylabel('Variable 2')\n",
    "    plt.xticks(()); plt.yticks(())\n",
    "    plt.xlim (np.min(xx), np.max(xx))\n",
    "    plt.ylim (np.min(yy), np.max(yy))\n",
    "    plt.savefig(filename)"
   ]
  },
  {
   "cell_type": "code",
   "execution_count": 21,
   "metadata": {},
   "outputs": [
    {
     "name": "stderr",
     "output_type": "stream",
     "text": [
      "/tmp/ipykernel_1485/1893703333.py:7: MatplotlibDeprecationWarning: shading='flat' when X and Y have the same dimensions as C is deprecated since 3.3.  Either specify the corners of the quadrilaterals with X and Y, or pass shading='auto', 'nearest' or 'gouraud', or set rcParams['pcolor.shading'].  This will become an error two minor releases later.\n",
      "  plt.pcolormesh(xx, yy, prediction_grid, cmap = background_colormap, alpha = 0.5)\n"
     ]
    },
    {
     "data": {
      "image/png": "[encoded data removed]",
      "text/plain": [
       "<Figure size 720x720 with 1 Axes>"
      ]
     },
     "metadata": {},
     "output_type": "display_data"
    }
   ],
   "source": [
    "(predictors, outcomes) = generate_synth_data()\n",
    "\n",
    "k = 50; filename = 'eraseIt_2.pdf'; limits = (-3, 4, -3, 4); h = 0.1\n",
    "(xx, yy, prediction_grid) = make_prediction_grid(predictors, outcomes, limits, h, k)\n",
    "plot_prediction_grid(xx, yy, prediction_grid, filename)"
   ]
  }
 ],
 "metadata": {
  "interpreter": {
   "hash": "7ce9cdae14fce8d3bdbe53314adcb46b08f2e6af86fc7cd8dfcae7b323f8b65a"
  },
  "kernelspec": {
   "display_name": "Python 3.9.7 ('base')",
   "language": "python",
   "name": "python3"
  },
  "language_info": {
   "codemirror_mode": {
    "name": "ipython",
    "version": 3
   },
   "file_extension": ".py",
   "mimetype": "text/x-python",
   "name": "python",
   "nbconvert_exporter": "python",
   "pygments_lexer": "ipython3",
   "version": "3.9.7"
  },
  "orig_nbformat": 4
 },
 "nbformat": 4,
 "nbformat_minor": 2
}
