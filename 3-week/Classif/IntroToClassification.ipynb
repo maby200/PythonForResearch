{
 "cells": [
  {
   "cell_type": "markdown",
   "metadata": {},
   "source": [
    "## Majority Vote"
   ]
  },
  {
   "cell_type": "code",
   "execution_count": 1,
   "metadata": {},
   "outputs": [],
   "source": [
    "import random\n",
    "import scipy.stats as ss\n",
    "import numpy"
   ]
  },
  {
   "cell_type": "code",
   "execution_count": 24,
   "metadata": {},
   "outputs": [],
   "source": [
    "def majority_vote(votes):\n",
    "    '''\n",
    "    returns a dictionary with the etiquetes and the values assigned for each of them\n",
    "    '''\n",
    "    vote_counts = {}\n",
    "    for vote in votes:\n",
    "        if vote in vote_counts:\n",
    "            vote_counts[vote] += 1\n",
    "        else:\n",
    "            vote_counts[vote] = 1\n",
    "    return vote_counts\n",
    "\n",
    "votes = [1,2,3,1,2,2,2,3,3,1,1,2,3,3,3,2,2,2]\n",
    "vote_counts = majority_vote(votes)\n",
    "max_count = max(vote_counts.values())"
   ]
  },
  {
   "cell_type": "code",
   "execution_count": 3,
   "metadata": {},
   "outputs": [
    {
     "name": "stdout",
     "output_type": "stream",
     "text": [
      "3\n"
     ]
    }
   ],
   "source": [
    "winner = []\n",
    "for vote, count in vote_counts.items():\n",
    "    if count == max_count:\n",
    "        winner.append(vote)\n",
    "       \n",
    "print(random.choice(winner))\n",
    "\n",
    " "
   ]
  },
  {
   "cell_type": "markdown",
   "metadata": {},
   "source": [
    "So far the function defined in the first cell returns a dict with the values assigned to the _candidates_. And in the second cell we see how to choose the winner given that dictionary.\n",
    "Now lets simply join those snippets to create a whole function... like exodia.. well not that much."
   ]
  },
  {
   "cell_type": "code",
   "execution_count": 26,
   "metadata": {},
   "outputs": [
    {
     "data": {
      "text/plain": [
       "3"
      ]
     },
     "execution_count": 26,
     "metadata": {},
     "output_type": "execute_result"
    }
   ],
   "source": [
    "def majority_vote(votes):\n",
    "    '''\n",
    "    returns the winner given a dictionary with votes. \n",
    "    If tie, a random choice ensures to return only one winner.\n",
    "    '''\n",
    "    vote_counts = {}\n",
    "    for vote in votes:\n",
    "        if vote in vote_counts:\n",
    "            vote_counts[vote] += 1\n",
    "        else:\n",
    "            vote_counts[vote] = 1\n",
    "    max_count = max(vote_counts.values())\n",
    "    winner = []\n",
    "    for vote, count in vote_counts.items():\n",
    "        if count == max_count:\n",
    "            winner.append(vote)\n",
    "\n",
    "    return random.choice(winner)\n",
    "\n",
    "votes = [1,2,3,1,2,2,2,3,3,1,1,2,3,3,3,2,2,2,3,3]\n",
    "majority_vote(votes)\n"
   ]
  },
  {
   "cell_type": "markdown",
   "metadata": {},
   "source": [
    "## Mode of a numpy array\n",
    "The video shows how to google for a question which is so important for us coders.\n",
    "\n",
    "<b>_scipy.stats as ss_</b> have already been defined in the first cell"
   ]
  },
  {
   "cell_type": "code",
   "execution_count": 23,
   "metadata": {},
   "outputs": [
    {
     "data": {
      "text/plain": [
       "array([2.])"
      ]
     },
     "execution_count": 23,
     "metadata": {},
     "output_type": "execute_result"
    }
   ],
   "source": [
    "def majority_vote_short(vote):\n",
    "    '''returns the most common element in votes'''\n",
    "    mode , count = ss.mstats.mode(vote)\n",
    "    return mode\n",
    "\n",
    "majority_vote_short(votes)"
   ]
  },
  {
   "cell_type": "markdown",
   "metadata": {},
   "source": [
    "At the end of the video professor Onela says that if there are more than one common element, _ss.stats.mode_ will return the number 2. Find out why here: https://docs.scipy.org/doc/scipy/reference/generated/scipy.stats.mode.html"
   ]
  },
  {
   "cell_type": "code",
   "execution_count": null,
   "metadata": {},
   "outputs": [],
   "source": []
  }
 ],
 "metadata": {
  "interpreter": {
   "hash": "7ce9cdae14fce8d3bdbe53314adcb46b08f2e6af86fc7cd8dfcae7b323f8b65a"
  },
  "kernelspec": {
   "display_name": "Python 3.9.7 ('base')",
   "language": "python",
   "name": "python3"
  },
  "language_info": {
   "codemirror_mode": {
    "name": "ipython",
    "version": 3
   },
   "file_extension": ".py",
   "mimetype": "text/x-python",
   "name": "python",
   "nbconvert_exporter": "python",
   "pygments_lexer": "ipython3",
   "version": "3.9.7"
  },
  "orig_nbformat": 4
 },
 "nbformat": 4,
 "nbformat_minor": 2
}
