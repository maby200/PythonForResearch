{
 "cells": [
  {
   "cell_type": "markdown",
   "metadata": {},
   "source": []
  },
  {
   "cell_type": "code",
   "execution_count": 2,
   "metadata": {},
   "outputs": [],
   "source": [
    "      \n",
    "import pandas as pd\n",
    "data = pd.Series([1,2,3,4])\n",
    "data = data.iloc[[3,0,1,2]]\n",
    "data[0]"
   ]
  },
  {
   "cell_type": "code",
   "execution_count": 6,
   "metadata": {},
   "outputs": [
    {
     "data": {
      "text/plain": [
       "0    4\n",
       "1    1\n",
       "2    2\n",
       "3    3\n",
       "dtype: int64"
      ]
     },
     "execution_count": 6,
     "metadata": {},
     "output_type": "execute_result"
    }
   ],
   "source": [
    "      \n",
    "import pandas as pd\n",
    "data = pd.Series([1,2,3,4])\n",
    "data = data.iloc[[3,0,1,2]]\n",
    "data = data.reset_index(drop=True)\n",
    "data"
   ]
  }
 ],
 "metadata": {
  "interpreter": {
   "hash": "7ce9cdae14fce8d3bdbe53314adcb46b08f2e6af86fc7cd8dfcae7b323f8b65a"
  },
  "kernelspec": {
   "display_name": "Python 3.9.7 ('base')",
   "language": "python",
   "name": "python3"
  },
  "language_info": {
   "codemirror_mode": {
    "name": "ipython",
    "version": 3
   },
   "file_extension": ".py",
   "mimetype": "text/x-python",
   "name": "python",
   "nbconvert_exporter": "python",
   "pygments_lexer": "ipython3",
   "version": "3.9.7"
  },
  "orig_nbformat": 4
 },
 "nbformat": 4,
 "nbformat_minor": 2
}
