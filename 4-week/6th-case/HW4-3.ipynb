{
 "cells": [
  {
   "cell_type": "markdown",
   "metadata": {},
   "source": [
    "# Using Python for Research Homework: Week 4, Case Study 3\n",
    "\n",
    "Homophily is a property of networks.  Homophily occurs when nodes that are neighbors in a network also share a characteristic more often than nodes that are not network neighbors.  In this case study, we will investigate homophily of several characteristics of individuals connected in social networks in rural India."
   ]
  },
  {
   "cell_type": "markdown",
   "metadata": {},
   "source": [
    "### Exercise 1\n",
    "In Exercise 1, we will calculate the chance homophily for an arbitrary characteristic. Homophily is the proportion of edges in the network whose constituent nodes share that characteristic.\n",
    "\n",
    "How much homophily do we expect by chance? If characteristics are distributed completely randomly, the probability that two nodes \\(x\\) and \\(y\\) share characteristic \\(a\\) is the probability both nodes have characteristic \\(a\\) , which is the marginal probability of \\(a\\) squared. The total probability that nodes \\(x\\) and \\(y\\) share their characteristic is therefore the sum of the square of the marginal probabilities of each characteristic in the network.\n",
    "\n",
    "<strong>Instructions</strong>\n",
    "<ul><li>Create a function <code>marginal_prob</code> that takes a dictionary <code>chars</code> with personal IDs as keys and characteristics as values; it should return a dictionary with characteristics as keys and their marginal probability (frequency of occurence of a characteristic divided by the sum of frequencies of each characteristic) as values.</li>\n",
    "<li>Create a function <code>chance_homophily(chars)</code> that takes a dictionary <code>chars</code> defined as above and computes the chance homophily (homophily due to chance alone) for that characteristic.</li>\n",
    "<li>A sample of three peoples' favorite colors is given in <code>favorite_colors</code>. Use your function to compute the chance homophily in this group, and store it as <code>color_homophily</code>.</li>\n",
    "<li>Print <code>color_homophily</code>.</li></ul>"
   ]
  },
  {
   "cell_type": "code",
   "execution_count": 36,
   "metadata": {},
   "outputs": [
    {
     "name": "stdout",
     "output_type": "stream",
     "text": [
      "0.1111111111111111\n",
      "0.5555555555555556\n"
     ]
    }
   ],
   "source": [
    "# from collections import Counter\n",
    "# favorite_colors = {\n",
    "#     \"ankit\":  \"red\",\n",
    "#     \"xiaoyu\": \"blue\",\n",
    "#     \"mary\":   \"blue\"\n",
    "# }\n",
    "\n",
    "\n",
    "\n",
    "# val_dict = Counter(favorite_colors.values()) \n",
    "# total_sum = sum(val_dict.values())\n",
    "# dict={k: val_dict[k]/total_sum for k in val_dict}\n",
    "\n",
    "# val = 0\n",
    "\n",
    "# for v in dict.values():\n",
    "#     val += v**2\n",
    "#     print(val)\n",
    "\n",
    "\n",
    "    "
   ]
  },
  {
   "cell_type": "code",
   "execution_count": 30,
   "metadata": {},
   "outputs": [
    {
     "data": {
      "text/plain": [
       "{'red': 0.3333333333333333, 'blue': 0.6666666666666666}"
      ]
     },
     "execution_count": 30,
     "metadata": {},
     "output_type": "execute_result"
    }
   ],
   "source": [
    "# dict"
   ]
  },
  {
   "cell_type": "code",
   "execution_count": 2,
   "metadata": {},
   "outputs": [
    {
     "name": "stdout",
     "output_type": "stream",
     "text": [
      "0.5555555555555556\n"
     ]
    }
   ],
   "source": [
    "from collections import Counter\n",
    "import numpy as np\n",
    "\n",
    "def marginal_prob(chars):\n",
    "    val_dict = Counter(chars.values()) \n",
    "    total_sum = sum(val_dict.values()) \n",
    "    dict={k: val_dict[k]/total_sum for k in val_dict}\n",
    "    return dict\n",
    "        \n",
    "def chance_homophily(chars):\n",
    "    val = 0\n",
    "    for v in marginal_prob(chars).values():\n",
    "        val += v**2\n",
    "    return val\n",
    "\n",
    "favorite_colors = {\n",
    "    \"ankit\":  \"red\",\n",
    "    \"xiaoyu\": \"blue\",\n",
    "    \"mary\":   \"blue\"\n",
    "}\n",
    "\n",
    "color_homophily = chance_homophily(favorite_colors)\n",
    "print(color_homophily)"
   ]
  },
  {
   "cell_type": "code",
   "execution_count": null,
   "metadata": {},
   "outputs": [],
   "source": [
    "# # edx solution:\n",
    "\n",
    "# from collections import Counter\n",
    "# import numpy as np\n",
    "\n",
    "\n",
    "# def marginal_prob(chars):\n",
    "#     frequencies = dict(Counter(chars.values()))\n",
    "#     sum_frequencies = sum(frequencies.values())\n",
    "#     return {char: freq / sum_frequencies for char, freq in frequencies.items()}\n",
    "                \n",
    "# def chance_homophily(chars):\n",
    "#     marginal_probs = marginal_prob(chars)\n",
    "#     return np.sum(np.square(list(marginal_probs.values())))\n",
    "\n",
    "# favorite_colors = {\n",
    "#     \"ankit\":  \"red\",\n",
    "#     \"xiaoyu\": \"blue\",\n",
    "#     \"mary\":   \"blue\"\n",
    "# }\n",
    "\n",
    "# color_homophily = chance_homophily(favorite_colors)\n",
    "# print(color_homophily)\n",
    "# # 0.5555555555555556"
   ]
  },
  {
   "cell_type": "markdown",
   "metadata": {},
   "source": [
    "### Exercise 2\n",
    "\n",
    "In the remaining exercises, we will calculate actual homophily in these village and compare the obtained values to those obtained by chance. In this exercise, we subset the data into individual villages and store them.\n",
    "\n",
    "#### Instructions \n",
    "\n",
    "- `individual_characteristics.dta` contains several characteristics for each individual in the dataset such as age, religion, and caste. Use the `pandas` library to read in and store these characteristics as a dataframe called `df`.\n",
    "- Store separate datasets for individuals belonging to Villages 1 and 2 as `df1` and `df2`, respectively.\n",
    "- Note that some attributes may be missing for some individuals. In this case study, we will ignore rows of data where some column information is missing.\n",
    "- Use the head method to display the first few entries of `df1`."
   ]
  },
  {
   "cell_type": "code",
   "execution_count": 34,
   "metadata": {},
   "outputs": [
    {
     "data": {
      "text/html": [
       "<div>\n",
       "<style scoped>\n",
       "    .dataframe tbody tr th:only-of-type {\n",
       "        vertical-align: middle;\n",
       "    }\n",
       "\n",
       "    .dataframe tbody tr th {\n",
       "        vertical-align: top;\n",
       "    }\n",
       "\n",
       "    .dataframe thead th {\n",
       "        text-align: right;\n",
       "    }\n",
       "</style>\n",
       "<table border=\"1\" class=\"dataframe\">\n",
       "  <thead>\n",
       "    <tr style=\"text-align: right;\">\n",
       "      <th></th>\n",
       "      <th>village</th>\n",
       "      <th>adjmatrix_key</th>\n",
       "      <th>pid</th>\n",
       "      <th>hhid</th>\n",
       "      <th>resp_id</th>\n",
       "      <th>resp_gend</th>\n",
       "      <th>resp_status</th>\n",
       "      <th>age</th>\n",
       "      <th>religion</th>\n",
       "      <th>caste</th>\n",
       "      <th>...</th>\n",
       "      <th>hindi</th>\n",
       "      <th>urdu</th>\n",
       "      <th>english</th>\n",
       "      <th>educ</th>\n",
       "      <th>villagenative</th>\n",
       "      <th>workflag</th>\n",
       "      <th>shgparticipate</th>\n",
       "      <th>savings</th>\n",
       "      <th>electioncard</th>\n",
       "      <th>rationcard</th>\n",
       "    </tr>\n",
       "  </thead>\n",
       "  <tbody>\n",
       "    <tr>\n",
       "      <th>0</th>\n",
       "      <td>1</td>\n",
       "      <td>5</td>\n",
       "      <td>100201</td>\n",
       "      <td>1002</td>\n",
       "      <td>1</td>\n",
       "      <td>1</td>\n",
       "      <td>Head of Household</td>\n",
       "      <td>38</td>\n",
       "      <td>HINDUISM</td>\n",
       "      <td>OBC</td>\n",
       "      <td>...</td>\n",
       "      <td>No</td>\n",
       "      <td>No</td>\n",
       "      <td>No</td>\n",
       "      <td>2ND STANDARD</td>\n",
       "      <td>Yes</td>\n",
       "      <td>Yes</td>\n",
       "      <td>No</td>\n",
       "      <td>No</td>\n",
       "      <td>Yes</td>\n",
       "      <td>Yes</td>\n",
       "    </tr>\n",
       "    <tr>\n",
       "      <th>1</th>\n",
       "      <td>1</td>\n",
       "      <td>6</td>\n",
       "      <td>100202</td>\n",
       "      <td>1002</td>\n",
       "      <td>2</td>\n",
       "      <td>2</td>\n",
       "      <td>Spouse of Head of Household</td>\n",
       "      <td>27</td>\n",
       "      <td>HINDUISM</td>\n",
       "      <td>OBC</td>\n",
       "      <td>...</td>\n",
       "      <td>No</td>\n",
       "      <td>No</td>\n",
       "      <td>No</td>\n",
       "      <td>2ND STANDARD</td>\n",
       "      <td>No</td>\n",
       "      <td>No</td>\n",
       "      <td>No</td>\n",
       "      <td>No</td>\n",
       "      <td>Yes</td>\n",
       "      <td>Yes</td>\n",
       "    </tr>\n",
       "    <tr>\n",
       "      <th>2</th>\n",
       "      <td>1</td>\n",
       "      <td>23</td>\n",
       "      <td>100601</td>\n",
       "      <td>1006</td>\n",
       "      <td>1</td>\n",
       "      <td>1</td>\n",
       "      <td>Head of Household</td>\n",
       "      <td>29</td>\n",
       "      <td>HINDUISM</td>\n",
       "      <td>OBC</td>\n",
       "      <td>...</td>\n",
       "      <td>No</td>\n",
       "      <td>No</td>\n",
       "      <td>No</td>\n",
       "      <td>7TH STANDARD</td>\n",
       "      <td>Yes</td>\n",
       "      <td>Yes</td>\n",
       "      <td>No</td>\n",
       "      <td>No</td>\n",
       "      <td>Yes</td>\n",
       "      <td>Yes</td>\n",
       "    </tr>\n",
       "    <tr>\n",
       "      <th>3</th>\n",
       "      <td>1</td>\n",
       "      <td>24</td>\n",
       "      <td>100602</td>\n",
       "      <td>1006</td>\n",
       "      <td>2</td>\n",
       "      <td>2</td>\n",
       "      <td>Spouse of Head of Household</td>\n",
       "      <td>24</td>\n",
       "      <td>HINDUISM</td>\n",
       "      <td>OBC</td>\n",
       "      <td>...</td>\n",
       "      <td>No</td>\n",
       "      <td>No</td>\n",
       "      <td>No</td>\n",
       "      <td>S.S.L.C.</td>\n",
       "      <td>No</td>\n",
       "      <td>Yes</td>\n",
       "      <td>Yes</td>\n",
       "      <td>Yes</td>\n",
       "      <td>Yes</td>\n",
       "      <td>No</td>\n",
       "    </tr>\n",
       "    <tr>\n",
       "      <th>4</th>\n",
       "      <td>1</td>\n",
       "      <td>27</td>\n",
       "      <td>100701</td>\n",
       "      <td>1007</td>\n",
       "      <td>1</td>\n",
       "      <td>1</td>\n",
       "      <td>Head of Household</td>\n",
       "      <td>58</td>\n",
       "      <td>HINDUISM</td>\n",
       "      <td>OBC</td>\n",
       "      <td>...</td>\n",
       "      <td>No</td>\n",
       "      <td>No</td>\n",
       "      <td>No</td>\n",
       "      <td>S.S.L.C.</td>\n",
       "      <td>Yes</td>\n",
       "      <td>Yes</td>\n",
       "      <td>No</td>\n",
       "      <td>No</td>\n",
       "      <td>Yes</td>\n",
       "      <td>Yes</td>\n",
       "    </tr>\n",
       "    <tr>\n",
       "      <th>...</th>\n",
       "      <td>...</td>\n",
       "      <td>...</td>\n",
       "      <td>...</td>\n",
       "      <td>...</td>\n",
       "      <td>...</td>\n",
       "      <td>...</td>\n",
       "      <td>...</td>\n",
       "      <td>...</td>\n",
       "      <td>...</td>\n",
       "      <td>...</td>\n",
       "      <td>...</td>\n",
       "      <td>...</td>\n",
       "      <td>...</td>\n",
       "      <td>...</td>\n",
       "      <td>...</td>\n",
       "      <td>...</td>\n",
       "      <td>...</td>\n",
       "      <td>...</td>\n",
       "      <td>...</td>\n",
       "      <td>...</td>\n",
       "      <td>...</td>\n",
       "    </tr>\n",
       "    <tr>\n",
       "      <th>198</th>\n",
       "      <td>1</td>\n",
       "      <td>791</td>\n",
       "      <td>117202</td>\n",
       "      <td>1172</td>\n",
       "      <td>2</td>\n",
       "      <td>2</td>\n",
       "      <td>Spouse of Head of Household</td>\n",
       "      <td>62</td>\n",
       "      <td>HINDUISM</td>\n",
       "      <td>OBC</td>\n",
       "      <td>...</td>\n",
       "      <td>No</td>\n",
       "      <td>No</td>\n",
       "      <td>No</td>\n",
       "      <td>NONE</td>\n",
       "      <td>No</td>\n",
       "      <td>Yes</td>\n",
       "      <td>No</td>\n",
       "      <td>No</td>\n",
       "      <td>Yes</td>\n",
       "      <td>Yes</td>\n",
       "    </tr>\n",
       "    <tr>\n",
       "      <th>199</th>\n",
       "      <td>1</td>\n",
       "      <td>792</td>\n",
       "      <td>117203</td>\n",
       "      <td>1172</td>\n",
       "      <td>3</td>\n",
       "      <td>2</td>\n",
       "      <td>Other</td>\n",
       "      <td>30</td>\n",
       "      <td>HINDUISM</td>\n",
       "      <td>OBC</td>\n",
       "      <td>...</td>\n",
       "      <td>No</td>\n",
       "      <td>No</td>\n",
       "      <td>No</td>\n",
       "      <td>NONE</td>\n",
       "      <td>Yes</td>\n",
       "      <td>Yes</td>\n",
       "      <td>No</td>\n",
       "      <td>No</td>\n",
       "      <td>Yes</td>\n",
       "      <td>Yes</td>\n",
       "    </tr>\n",
       "    <tr>\n",
       "      <th>200</th>\n",
       "      <td>1</td>\n",
       "      <td>795</td>\n",
       "      <td>117301</td>\n",
       "      <td>1173</td>\n",
       "      <td>1</td>\n",
       "      <td>1</td>\n",
       "      <td>Head of Household</td>\n",
       "      <td>75</td>\n",
       "      <td>HINDUISM</td>\n",
       "      <td>OBC</td>\n",
       "      <td>...</td>\n",
       "      <td>No</td>\n",
       "      <td>No</td>\n",
       "      <td>No</td>\n",
       "      <td>7TH STANDARD</td>\n",
       "      <td>Yes</td>\n",
       "      <td>No</td>\n",
       "      <td>No</td>\n",
       "      <td>No</td>\n",
       "      <td>Yes</td>\n",
       "      <td>Yes</td>\n",
       "    </tr>\n",
       "    <tr>\n",
       "      <th>201</th>\n",
       "      <td>1</td>\n",
       "      <td>802</td>\n",
       "      <td>117403</td>\n",
       "      <td>1174</td>\n",
       "      <td>3</td>\n",
       "      <td>2</td>\n",
       "      <td>Other</td>\n",
       "      <td>26</td>\n",
       "      <td>HINDUISM</td>\n",
       "      <td>SCHEDULED CASTE</td>\n",
       "      <td>...</td>\n",
       "      <td>No</td>\n",
       "      <td>No</td>\n",
       "      <td>No</td>\n",
       "      <td>9TH STANDARD</td>\n",
       "      <td>No</td>\n",
       "      <td>Yes</td>\n",
       "      <td>No</td>\n",
       "      <td>No</td>\n",
       "      <td>No</td>\n",
       "      <td>No</td>\n",
       "    </tr>\n",
       "    <tr>\n",
       "      <th>202</th>\n",
       "      <td>1</td>\n",
       "      <td>803</td>\n",
       "      <td>117404</td>\n",
       "      <td>1174</td>\n",
       "      <td>4</td>\n",
       "      <td>1</td>\n",
       "      <td>Other</td>\n",
       "      <td>18</td>\n",
       "      <td>HINDUISM</td>\n",
       "      <td>SCHEDULED CASTE</td>\n",
       "      <td>...</td>\n",
       "      <td>No</td>\n",
       "      <td>No</td>\n",
       "      <td>No</td>\n",
       "      <td>S.S.L.C.</td>\n",
       "      <td>Yes</td>\n",
       "      <td>Yes</td>\n",
       "      <td>No</td>\n",
       "      <td>No</td>\n",
       "      <td>Yes</td>\n",
       "      <td>No</td>\n",
       "    </tr>\n",
       "  </tbody>\n",
       "</table>\n",
       "<p>203 rows × 26 columns</p>\n",
       "</div>"
      ],
      "text/plain": [
       "     village  adjmatrix_key     pid  hhid  resp_id  resp_gend  \\\n",
       "0          1              5  100201  1002        1          1   \n",
       "1          1              6  100202  1002        2          2   \n",
       "2          1             23  100601  1006        1          1   \n",
       "3          1             24  100602  1006        2          2   \n",
       "4          1             27  100701  1007        1          1   \n",
       "..       ...            ...     ...   ...      ...        ...   \n",
       "198        1            791  117202  1172        2          2   \n",
       "199        1            792  117203  1172        3          2   \n",
       "200        1            795  117301  1173        1          1   \n",
       "201        1            802  117403  1174        3          2   \n",
       "202        1            803  117404  1174        4          1   \n",
       "\n",
       "                     resp_status  age  religion            caste  ... hindi  \\\n",
       "0              Head of Household   38  HINDUISM              OBC  ...    No   \n",
       "1    Spouse of Head of Household   27  HINDUISM              OBC  ...    No   \n",
       "2              Head of Household   29  HINDUISM              OBC  ...    No   \n",
       "3    Spouse of Head of Household   24  HINDUISM              OBC  ...    No   \n",
       "4              Head of Household   58  HINDUISM              OBC  ...    No   \n",
       "..                           ...  ...       ...              ...  ...   ...   \n",
       "198  Spouse of Head of Household   62  HINDUISM              OBC  ...    No   \n",
       "199                        Other   30  HINDUISM              OBC  ...    No   \n",
       "200            Head of Household   75  HINDUISM              OBC  ...    No   \n",
       "201                        Other   26  HINDUISM  SCHEDULED CASTE  ...    No   \n",
       "202                        Other   18  HINDUISM  SCHEDULED CASTE  ...    No   \n",
       "\n",
       "    urdu english          educ villagenative workflag shgparticipate savings  \\\n",
       "0     No      No  2ND STANDARD           Yes      Yes             No      No   \n",
       "1     No      No  2ND STANDARD            No       No             No      No   \n",
       "2     No      No  7TH STANDARD           Yes      Yes             No      No   \n",
       "3     No      No      S.S.L.C.            No      Yes            Yes     Yes   \n",
       "4     No      No      S.S.L.C.           Yes      Yes             No      No   \n",
       "..   ...     ...           ...           ...      ...            ...     ...   \n",
       "198   No      No          NONE            No      Yes             No      No   \n",
       "199   No      No          NONE           Yes      Yes             No      No   \n",
       "200   No      No  7TH STANDARD           Yes       No             No      No   \n",
       "201   No      No  9TH STANDARD            No      Yes             No      No   \n",
       "202   No      No      S.S.L.C.           Yes      Yes             No      No   \n",
       "\n",
       "    electioncard rationcard  \n",
       "0            Yes        Yes  \n",
       "1            Yes        Yes  \n",
       "2            Yes        Yes  \n",
       "3            Yes         No  \n",
       "4            Yes        Yes  \n",
       "..           ...        ...  \n",
       "198          Yes        Yes  \n",
       "199          Yes        Yes  \n",
       "200          Yes        Yes  \n",
       "201           No         No  \n",
       "202          Yes         No  \n",
       "\n",
       "[203 rows x 26 columns]"
      ]
     },
     "execution_count": 34,
     "metadata": {},
     "output_type": "execute_result"
    }
   ],
   "source": [
    "import pandas as pd\n",
    "\n",
    "df  = pd.read_csv(\"https://courses.edx.org/asset-v1:HarvardX+PH526x+2T2019+type@asset+block@individual_characteristics.csv\", low_memory=False, index_col=0)\n",
    "\n",
    "df1 = df.loc[df.village == 1].dropna(axis='columns')\n",
    "df2 = df.loc[df.village == 2].dropna(axis='columns')\n",
    "\n",
    "df1"
   ]
  },
  {
   "cell_type": "code",
   "execution_count": 35,
   "metadata": {},
   "outputs": [
    {
     "data": {
      "text/plain": [
       "Index(['village', 'adjmatrix_key', 'pid', 'hhid', 'resp_id', 'resp_gend',\n",
       "       'resp_status', 'age', 'religion', 'caste', 'subcaste', 'mothertongue',\n",
       "       'speakother', 'kannada', 'tamil', 'telugu', 'hindi', 'urdu', 'english',\n",
       "       'educ', 'villagenative', 'workflag', 'shgparticipate', 'savings',\n",
       "       'electioncard', 'rationcard'],\n",
       "      dtype='object')"
      ]
     },
     "execution_count": 35,
     "metadata": {},
     "output_type": "execute_result"
    }
   ],
   "source": [
    "df1.columns"
   ]
  },
  {
   "cell_type": "code",
   "execution_count": 33,
   "metadata": {},
   "outputs": [
    {
     "data": {
      "text/plain": [
       "[]"
      ]
     },
     "execution_count": 33,
     "metadata": {},
     "output_type": "execute_result"
    }
   ],
   "source": [
    "# # sum(df1.resp_gend.head() == 1)\n",
    "# nas = []\n",
    "# for col in df1.columns:\n",
    "#     for i, v in enumerate(df1[col].isna()):\n",
    "#         if v:\n",
    "#             nas.append(i)\n",
    "#             print(col,' :',i)\n",
    "\n",
    "# nas\n",
    "        "
   ]
  },
  {
   "cell_type": "markdown",
   "metadata": {},
   "source": [
    "### Exercise 3 \n",
    "\n",
    "In this exercise, we define a few dictionaries that enable us to look up the sex, caste, and religion of members of each village by personal ID. For Villages 1 and 2, their personal IDs are stored as `pid`.\n",
    "\n",
    "#### Instructions \n",
    "- Define dictionaries with personal IDs as keys and a given covariate for that individual as values. Complete this for the sex, caste, and religion covariates, for Villages 1 and 2.\n",
    "- For Village 1, store these dictionaries into variables named `sex1`, `caste1`, and `religion1`.\n",
    "- For Village 2, store these dictionaries into variables named `sex2`, `caste2`, and `religion2`."
   ]
  },
  {
   "cell_type": "code",
   "execution_count": 38,
   "metadata": {},
   "outputs": [],
   "source": [
    "sex1      = dict(zip(df1.pid, df1.resp_gend))\n",
    "caste1    = dict(zip(df1.pid, df1.caste))\n",
    "religion1 = dict(zip(df1.pid, df1.religion))\n",
    "\n",
    "sex2      = dict(zip(df2.pid, df2.resp_gend))\n",
    "caste2    = dict(zip(df2.pid, df2.caste))\n",
    "religion2 = dict(zip(df2.pid, df2.religion))\n"
   ]
  },
  {
   "cell_type": "code",
   "execution_count": 41,
   "metadata": {},
   "outputs": [
    {
     "data": {
      "text/plain": [
       "'OBC'"
      ]
     },
     "execution_count": 41,
     "metadata": {},
     "output_type": "execute_result"
    }
   ],
   "source": [
    "caste2[202802]"
   ]
  },
  {
   "cell_type": "code",
   "execution_count": null,
   "metadata": {},
   "outputs": [],
   "source": [
    "# # EdX solution:\n",
    "# sex1 = df1.set_index(\"pid\")[\"resp_gend\"].to_dict()\n",
    "# caste1 = df1.set_index(\"pid\")[\"caste\"].to_dict()\n",
    "# religion1 = df1.set_index(\"pid\")[\"religion\"].to_dict()\n",
    "\n",
    "# sex2 = df2.set_index(\"pid\")[\"resp_gend\"].to_dict()\n",
    "# caste2 = df2.set_index(\"pid\")[\"caste\"].to_dict()\n",
    "# religion2 = df2.set_index(\"pid\")[\"religion\"].to_dict()\n",
    "\n",
    "# caste2[202802]\n",
    "# 'OBC'"
   ]
  },
  {
   "cell_type": "markdown",
   "metadata": {},
   "source": [
    "### Exercise 4\n",
    "\n",
    "In this exercise, we will print the chance homophily of several characteristics of Villages 1 and 2. \n",
    "\n",
    "#### Instructions \n",
    "-  Use `chance_homophily` to compute the chance homophily for sex, caste, and religion In Villages 1 and 2. Is the chance homophily for any attribute very high for either village?"
   ]
  },
  {
   "cell_type": "code",
   "execution_count": 47,
   "metadata": {},
   "outputs": [
    {
     "name": "stdout",
     "output_type": "stream",
     "text": [
      "sex1:       0.5027299861680701\n",
      "caste1:     0.6741488509791551\n",
      "religion1:  0.9804896988521925\n",
      "sex2:       0.5005945303210464\n",
      "caste2:     0.425368244800893\n",
      "religion2:  1.0\n"
     ]
    }
   ],
   "source": [
    "# Enter your code here.\n",
    "print('sex1:      ',chance_homophily(sex1))\n",
    "print('caste1:    ',chance_homophily(caste1))\n",
    "print('religion1: ',chance_homophily(religion1))\n",
    "print('sex2:      ',chance_homophily(sex2))\n",
    "print('caste2:    ',chance_homophily(caste2))\n",
    "print('religion2: ',chance_homophily(religion2))\n"
   ]
  },
  {
   "cell_type": "markdown",
   "metadata": {},
   "source": [
    "### Exercise 5\n",
    "\n",
    "In this exercise, we will create a function that computes the observed homophily given a village and characteristic.\n",
    "\n",
    "#### Instructions \n",
    "- Complete the function `homophily()`, which takes a network `G`, a dictionary of node characteristics `chars`, and node IDs `IDs`. For each node pair, determine whether a tie exists between them, as well as whether they share a characteristic. The total count of these is `num_ties` and `num_same_ties`, respectively, and their ratio is the homophily of chars in `G`. Complete the function by choosing where to increment `num_same_ties` and `num_ties`."
   ]
  },
  {
   "cell_type": "code",
   "execution_count": 56,
   "metadata": {},
   "outputs": [],
   "source": [
    "def homophily(G, chars, IDs):\n",
    "    \"\"\"\n",
    "    Given a network G, a dict of characteristics chars for node IDs,\n",
    "    and dict of node IDs for each node in the network,\n",
    "    find the homophily of the network.\n",
    "    \"\"\"\n",
    "    num_same_ties = 0\n",
    "    num_ties = 0\n",
    "    for n1, n2 in G.edges():\n",
    "        if IDs[n1] in chars and IDs[n2] in chars:\n",
    "            if G.has_edge(n1, n2):\n",
    "                # Should `num_ties` be incremented?\n",
    "                # What about `num_same_ties`?\n",
    "                num_ties +=  1\n",
    "                if chars[IDs[n1]] == chars[IDs[n2]]:\n",
    "                    # Should `num_ties` be incremented?\n",
    "                    # What about `num_same_ties`?\n",
    "                    num_same_ties += 1 \n",
    "    return (num_same_ties / num_ties)    "
   ]
  },
  {
   "cell_type": "markdown",
   "metadata": {},
   "source": [
    "### Exercise 6\n",
    "\n",
    "In this exercise, we will obtain the personal IDs for Villages 1 and 2. These will be used in the next exercise to calculate homophily for these villages.\n",
    "\n",
    "#### Instructions \n",
    "- In this dataset, each individual has a personal ID, or PID, stored in `key_vilno_1.csv` and `key_vilno_2.csv` for villages 1 and 2, respectively. `data_filepath1` and `data_filepath2` contain the URLs to the datasets used in this exercise. Use `pd.read_csv` to read in and store `key_vilno_1.csv` and `key_vilno_2.csv` as `pid1` and `pid2` respectively. "
   ]
  },
  {
   "cell_type": "code",
   "execution_count": 54,
   "metadata": {},
   "outputs": [
    {
     "data": {
      "text/plain": [
       "0    102205\n",
       "Name: 100, dtype: int64"
      ]
     },
     "execution_count": 54,
     "metadata": {},
     "output_type": "execute_result"
    }
   ],
   "source": [
    "data_filepath1 = \"https://courses.edx.org/asset-v1:HarvardX+PH526x+2T2019+type@asset+block@key_vilno_1.csv\"\n",
    "data_filepath2 = \"https://courses.edx.org/asset-v1:HarvardX+PH526x+2T2019+type@asset+block@key_vilno_2.csv\"\n",
    "\n",
    "# Enter code here!\n",
    "pid1 = pd.read_csv(data_filepath1,index_col=0)\n",
    "pid2 = pd.read_csv(data_filepath2,index_col=0)\n",
    "\n",
    "pid1.iloc[100]\n"
   ]
  },
  {
   "cell_type": "markdown",
   "metadata": {},
   "source": [
    "### Exercise 7\n",
    "\n",
    "In this exercise, we will compute the homophily of several network characteristics for Villages 1 and 2 and compare them to homophily due to chance alone. The networks for these villages have been stored as networkx graph objects `G1` and `G2`.\n",
    "\n",
    "#### Instructions \n",
    "\n",
    "- Use your `homophily()` function to compute the observed homophily for sex, caste, and religion in Villages 1 and 2. Print all six values.\n",
    "- Use the `chance_homophily()` to compare these values to chance homophily. Are these values higher or lower than that expected by chance?"
   ]
  },
  {
   "cell_type": "code",
   "execution_count": 59,
   "metadata": {},
   "outputs": [
    {
     "name": "stdout",
     "output_type": "stream",
     "text": [
      "0.5908629441624366\n",
      "0.7959390862944162\n",
      "0.9908629441624366\n",
      "0.5658073270013568\n",
      "0.8276797829036635\n",
      "1.0\n"
     ]
    }
   ],
   "source": [
    "import networkx as nx\n",
    "A1 = np.array(pd.read_csv(\"https://courses.edx.org/asset-v1:HarvardX+PH526x+2T2019+type@asset+block@adj_allVillageRelationships_vilno1.csv\", index_col=0))\n",
    "A2 = np.array(pd.read_csv(\"https://courses.edx.org/asset-v1:HarvardX+PH526x+2T2019+type@asset+block@adj_allVillageRelationships_vilno2.csv\", index_col=0))\n",
    "G1 = nx.to_networkx_graph(A1)\n",
    "G2 = nx.to_networkx_graph(A2)\n",
    "\n",
    "pid1 = pd.read_csv(data_filepath1, dtype=int)['0'].to_dict()\n",
    "pid2 = pd.read_csv(data_filepath2, dtype=int)['0'].to_dict()\n",
    "\n",
    "# Enter your code here!\n",
    "print(homophily(G1,sex1,pid1))\n",
    "print(homophily(G1,caste1,pid1))\n",
    "print(homophily(G1,religion1,pid1))\n",
    "print(homophily(G2,sex2,pid2))\n",
    "print(homophily(G2,caste2,pid2))\n",
    "print(homophily(G2,religion2,pid2))\n"
   ]
  },
  {
   "cell_type": "code",
   "execution_count": 60,
   "metadata": {},
   "outputs": [
    {
     "name": "stdout",
     "output_type": "stream",
     "text": [
      "sex1:       0.5027299861680701\n",
      "caste1:     0.6741488509791551\n",
      "religion1:  0.9804896988521925\n",
      "sex2:       0.5005945303210464\n",
      "caste2:     0.425368244800893\n",
      "religion2:  1.0\n"
     ]
    }
   ],
   "source": [
    "print('sex1:      ',chance_homophily(sex1))\n",
    "print('caste1:    ',chance_homophily(caste1))\n",
    "print('religion1: ',chance_homophily(religion1))\n",
    "print('sex2:      ',chance_homophily(sex2))\n",
    "print('caste2:    ',chance_homophily(caste2))\n",
    "print('religion2: ',chance_homophily(religion2))\n"
   ]
  }
 ],
 "metadata": {
  "kernelspec": {
   "display_name": "Python 3",
   "language": "python",
   "name": "python3"
  },
  "language_info": {
   "codemirror_mode": {
    "name": "ipython",
    "version": 3
   },
   "file_extension": ".py",
   "mimetype": "text/x-python",
   "name": "python",
   "nbconvert_exporter": "python",
   "pygments_lexer": "ipython3",
   "version": "3.9.7"
  },
  "toc": {
   "base_numbering": 1,
   "nav_menu": {},
   "number_sections": false,
   "sideBar": true,
   "skip_h1_title": false,
   "title_cell": "Table of Contents",
   "title_sidebar": "Contents",
   "toc_cell": false,
   "toc_position": {},
   "toc_section_display": true,
   "toc_window_display": true
  }
 },
 "nbformat": 4,
 "nbformat_minor": 2
}
